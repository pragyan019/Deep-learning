{
 "cells": [
  {
   "cell_type": "markdown",
   "metadata": {
    "colab_type": "text",
    "id": "aNyZv-Ec52ot"
   },
   "source": [
    "# **Import Libraries and modules**"
   ]
  },
  {
   "cell_type": "markdown",
   "metadata": {
    "colab_type": "text",
    "id": "X0QOkwJLX50i"
   },
   "source": [
    "### BatchNormalization"
   ]
  },
  {
   "cell_type": "markdown",
   "metadata": {
    "colab_type": "text",
    "id": "M6GX60ppX-IW"
   },
   "source": [
    "\" Training Deep Neural Networks is complicated by the fact that the distribution of each layer’s inputs changes during training, as the parameters of the previous layers change. This slows down the training by requiring lower learning rates and careful parameter initialization, and makes it notoriously hard to train models with saturating nonlinearities\"-- <b>Batch Normalization: Accelerating Deep Network Training by Reducing Internal Covariate Shift, 2015</b> (https://arxiv.org/abs/1502.03167)"
   ]
  },
  {
   "cell_type": "markdown",
   "metadata": {
    "colab_type": "text",
    "id": "Xd8wjvSDYFIN"
   },
   "source": [
    "The authors of the paper introducing batch normalization refer to change in the distribution of inputs during training as <b>“internal covariate shift.”</b>"
   ]
  },
  {
   "cell_type": "markdown",
   "metadata": {
    "colab_type": "text",
    "id": "P8vgOfqUYGJg"
   },
   "source": [
    "This process is also called “whitening” when applied to images in computer vision."
   ]
  },
  {
   "cell_type": "markdown",
   "metadata": {
    "colab_type": "text",
    "id": "VQWzfo0PYNbP"
   },
   "source": [
    "\"By whitening the inputs to each layer, we would take a step towards achieving the fixed distributions of inputs that would remove the ill effects of the internal covariate shift.\"-- -- <b>Batch Normalization: Accelerating Deep Network Training by Reducing Internal Covariate Shift, 2015</b> (https://arxiv.org/abs/1502.03167)"
   ]
  },
  {
   "cell_type": "markdown",
   "metadata": {},
   "source": [
    "### Regularization"
   ]
  },
  {
   "cell_type": "markdown",
   "metadata": {},
   "source": [
    "\"Anything that generalizes our model is called Regularization\""
   ]
  },
  {
   "cell_type": "markdown",
   "metadata": {},
   "source": [
    "Regularization is a key component in preventing overfitting. Also, some techniques of regularization can be used to reduce model parameters while maintaining accuracy, for example, to drive some of the parameters to zero. This might be desirable for reducing the model size or driving down the cost of evaluation in a mobile environment where processor power is constrained."
   ]
  },
  {
   "cell_type": "code",
   "execution_count": 1,
   "metadata": {
    "colab": {
     "base_uri": "https://localhost:8080/",
     "height": 34
    },
    "colab_type": "code",
    "id": "3m3w1Cw49Zkt",
    "outputId": "96ec2f62-2437-41ce-f358-f7844da98ee6"
   },
   "outputs": [
    {
     "name": "stderr",
     "output_type": "stream",
     "text": [
      "Using TensorFlow backend.\n"
     ]
    }
   ],
   "source": [
    "# https://keras.io/\n",
    "!pip install -q keras\n",
    "import keras"
   ]
  },
  {
   "cell_type": "code",
   "execution_count": 0,
   "metadata": {
    "colab": {},
    "colab_type": "code",
    "id": "Eso6UHE080D4"
   },
   "outputs": [],
   "source": [
    "#import the libraries\n",
    "import numpy as np\n",
    "\n",
    "from keras.models import Sequential\n",
    "from keras.layers import Dense, Dropout, Activation, Flatten, Add, BatchNormalization\n",
    "from keras.layers import Convolution2D, MaxPooling2D\n",
    "from keras.utils import np_utils\n",
    "from keras.optimizers import Adam\n",
    "from keras.callbacks import ModelCheckpoint\n",
    "from keras.callbacks import LearningRateScheduler\n",
    "from keras.preprocessing.image import ImageDataGenerator\n",
    "import keras.backend as K\n",
    "import matplotlib.pyplot as plt\n",
    "from matplotlib import style\n",
    "import seaborn as sns\n",
    "\n",
    "\n",
    "from keras.datasets import mnist"
   ]
  },
  {
   "cell_type": "code",
   "execution_count": 0,
   "metadata": {
    "colab": {},
    "colab_type": "code",
    "id": "Yqi_5bTjZ1FT"
   },
   "outputs": [],
   "source": [
    "# fix random seed for reproducibility\n",
    "seed = 7\n",
    "np.random.seed(seed)"
   ]
  },
  {
   "cell_type": "markdown",
   "metadata": {
    "colab_type": "text",
    "id": "zByEi95J86RD"
   },
   "source": [
    "### Load pre-shuffled MNIST data into train and test sets"
   ]
  },
  {
   "cell_type": "code",
   "execution_count": 0,
   "metadata": {
    "colab": {},
    "colab_type": "code",
    "id": "7eRM0QWN83PV"
   },
   "outputs": [],
   "source": [
    "#load the test and train data\n",
    "(X_train, y_train), (X_test, y_test) = mnist.load_data()"
   ]
  },
  {
   "cell_type": "code",
   "execution_count": 5,
   "metadata": {
    "colab": {
     "base_uri": "https://localhost:8080/",
     "height": 303
    },
    "colab_type": "code",
    "id": "4a4Be72j8-ZC",
    "outputId": "b270c32d-e904-4671-9013-5b811edbf6a4"
   },
   "outputs": [
    {
     "name": "stdout",
     "output_type": "stream",
     "text": [
      "(60000, 28, 28)\n"
     ]
    },
    {
     "data": {
      "text/plain": [
       "<matplotlib.image.AxesImage at 0x7fb7c538c390>"
      ]
     },
     "execution_count": 5,
     "metadata": {
      "tags": []
     },
     "output_type": "execute_result"
    },
    {
     "data": {
      "image/png": "[encoded data removed]",
      "text/plain": [
       "<Figure size 432x288 with 1 Axes>"
      ]
     },
     "metadata": {
      "tags": []
     },
     "output_type": "display_data"
    }
   ],
   "source": [
    "#training data shape\n",
    "print (X_train.shape)\n",
    "from matplotlib import pyplot as plt\n",
    "%matplotlib inline\n",
    "#visualize first example\n",
    "plt.imshow(X_train[0])"
   ]
  },
  {
   "cell_type": "code",
   "execution_count": 0,
   "metadata": {
    "colab": {},
    "colab_type": "code",
    "id": "dkmprriw9AnZ"
   },
   "outputs": [],
   "source": [
    "#reshape the training and test data\n",
    "X_train = X_train.reshape(X_train.shape[0], 28, 28,1)\n",
    "X_test = X_test.reshape(X_test.shape[0], 28, 28,1)"
   ]
  },
  {
   "cell_type": "code",
   "execution_count": 0,
   "metadata": {
    "colab": {},
    "colab_type": "code",
    "id": "X2m4YS4E9CRh"
   },
   "outputs": [],
   "source": [
    "#convert to 'float32' and divide by 255 to scale it in [0,1] i.e standarization\n",
    "X_train = X_train.astype('float32')\n",
    "X_test = X_test.astype('float32')\n",
    "X_train /= 255\n",
    "X_test /= 255"
   ]
  },
  {
   "cell_type": "code",
   "execution_count": 8,
   "metadata": {
    "colab": {
     "base_uri": "https://localhost:8080/",
     "height": 34
    },
    "colab_type": "code",
    "id": "0Mn0vAYD9DvB",
    "outputId": "dc298264-c362-4b3e-8741-9af0ba84fe48"
   },
   "outputs": [
    {
     "data": {
      "text/plain": [
       "array([5, 0, 4, 1, 9, 2, 1, 3, 1, 4], dtype=uint8)"
      ]
     },
     "execution_count": 8,
     "metadata": {
      "tags": []
     },
     "output_type": "execute_result"
    }
   ],
   "source": [
    "#print the 1st 10 training examples\n",
    "y_train[:10]"
   ]
  },
  {
   "cell_type": "code",
   "execution_count": 0,
   "metadata": {
    "colab": {},
    "colab_type": "code",
    "id": "ZG8JiXR39FHC"
   },
   "outputs": [],
   "source": [
    "# Convert 1-dimensional class arrays to 10-dimensional class matrices\n",
    "Y_train = np_utils.to_categorical(y_train, 10)\n",
    "Y_test = np_utils.to_categorical(y_test, 10)"
   ]
  },
  {
   "cell_type": "code",
   "execution_count": 10,
   "metadata": {
    "colab": {
     "base_uri": "https://localhost:8080/",
     "height": 187
    },
    "colab_type": "code",
    "id": "fYlFRvKS9HMB",
    "outputId": "aee6c1ca-205c-46ef-bd30-4cdecb78d731"
   },
   "outputs": [
    {
     "data": {
      "text/plain": [
       "array([[0., 0., 0., 0., 0., 1., 0., 0., 0., 0.],\n",
       "       [1., 0., 0., 0., 0., 0., 0., 0., 0., 0.],\n",
       "       [0., 0., 0., 0., 1., 0., 0., 0., 0., 0.],\n",
       "       [0., 1., 0., 0., 0., 0., 0., 0., 0., 0.],\n",
       "       [0., 0., 0., 0., 0., 0., 0., 0., 0., 1.],\n",
       "       [0., 0., 1., 0., 0., 0., 0., 0., 0., 0.],\n",
       "       [0., 1., 0., 0., 0., 0., 0., 0., 0., 0.],\n",
       "       [0., 0., 0., 1., 0., 0., 0., 0., 0., 0.],\n",
       "       [0., 1., 0., 0., 0., 0., 0., 0., 0., 0.],\n",
       "       [0., 0., 0., 0., 1., 0., 0., 0., 0., 0.]], dtype=float32)"
      ]
     },
     "execution_count": 10,
     "metadata": {
      "tags": []
     },
     "output_type": "execute_result"
    }
   ],
   "source": [
    "#one hot encoded data\n",
    "Y_train[:10]\n"
   ]
  },
  {
   "cell_type": "code",
   "execution_count": 0,
   "metadata": {
    "colab": {},
    "colab_type": "code",
    "id": "Q1AdOZm5NQqb"
   },
   "outputs": [],
   "source": [
    "#defining loss function reference- https://github.com/anubhavsatpathy/EVA/blob/master/Session5/EVA_S5.ipynb\n",
    "def custom_loss(lambd, model, batch_size):\n",
    "  \n",
    "  def loss(y_true, y_pred):\n",
    "    reg_loss = 0.0;\n",
    "    for layer in model.layers:\n",
    "      if layer.get_config()['name'].startswith('conv'):\n",
    "        reg_loss += K.sum(K.square(layer.weights[0]))\n",
    "    l2_loss = (lambd/(2*batch_size))*reg_loss\n",
    "    return K.categorical_crossentropy(y_true,y_pred) + l2_loss\n",
    "  \n",
    "  \n",
    "  return loss"
   ]
  },
  {
   "cell_type": "markdown",
   "metadata": {
    "colab_type": "text",
    "id": "vn7_XD1t0C1t"
   },
   "source": [
    "### Model with BatchNormalization before ReLu, Dropout and LearningRateScheduler"
   ]
  },
  {
   "cell_type": "markdown",
   "metadata": {
    "colab_type": "text",
    "id": "ik7A2EvrED0R"
   },
   "source": [
    "Sometimes this is called learning rate annealing or adaptive learning rates. Here we will call this approach a learning rate schedule, were the default schedule is to use a constant learning rate to update network weights for each training epoch."
   ]
  },
  {
   "cell_type": "markdown",
   "metadata": {
    "colab_type": "text",
    "id": "X8WL3DR9EIij"
   },
   "source": [
    "These have the benefit of making large changes at the beginning of the training procedure when larger learning rate values are used, and decreasing the learning rate such that a smaller rate and therefore smaller training updates are made to weights later in the training procedure.\n",
    "\n",
    "This has the effect of quickly learning good weights early and fine tuning them later."
   ]
  },
  {
   "cell_type": "code",
   "execution_count": 0,
   "metadata": {
    "colab": {},
    "colab_type": "code",
    "id": "jM1gNCbgOUlO"
   },
   "outputs": [],
   "source": [
    "#model wih BatchNormalization, Dropout and LearningRateScheduler\n",
    "def get_model():\n",
    "  model = Sequential()\n",
    "\n",
    "  model.add(Convolution2D(16, 3, 3,  input_shape=(28,28,1)))# RF=3\n",
    "  model.add(BatchNormalization())\n",
    "  model.add(Activation('relu'))\n",
    "  model.add(Dropout(0.1))\n",
    "\n",
    "  model.add(Convolution2D(32, 3,3))#RF =5\n",
    "  model.add(BatchNormalization())\n",
    "  model.add(Activation('relu'))\n",
    "  model.add(Dropout(0.1))\n",
    "\n",
    "  model.add(MaxPooling2D((2,2)))#RF=10\n",
    "\n",
    "  model.add(Convolution2D(10, 1))#RF=10\n",
    "  model.add(BatchNormalization())\n",
    "  model.add(Activation('relu'))\n",
    "  model.add(Dropout(0.1))\n",
    "\n",
    "  model.add(Convolution2D(16, 3,3))#RF =12\n",
    "  model.add(BatchNormalization())\n",
    "  model.add(Activation('relu'))\n",
    "  model.add(Dropout(0.1))\n",
    "\n",
    "  model.add(Convolution2D(32, 3,3))#RF =14\n",
    "  model.add(BatchNormalization())\n",
    "  model.add(Activation('relu'))\n",
    "  model.add(Dropout(0.1))\n",
    "\n",
    "  model.add(MaxPooling2D((2,2)))#RF=28\n",
    "\n",
    "  model.add(Convolution2D(10, 1))#RF=28\n",
    "  model.add(BatchNormalization())\n",
    "  model.add(Activation('relu'))\n",
    "  model.add(Dropout(0.1))\n",
    "\n",
    "  model.add(Convolution2D(10, 4))\n",
    "  model.add(Flatten())\n",
    "  model.add(Activation('softmax'))\n",
    "  \n",
    "  model.summary()\n",
    "  return model"
   ]
  },
  {
   "cell_type": "code",
   "execution_count": 0,
   "metadata": {
    "colab": {},
    "colab_type": "code",
    "id": "luf18K-BOUqf"
   },
   "outputs": [],
   "source": [
    "#define the scheduler\n",
    "def scheduler(epoch, lr):\n",
    "  return round(0.003 * 1/(1 + 0.319 * epoch), 10)"
   ]
  },
  {
   "cell_type": "code",
   "execution_count": 14,
   "metadata": {
    "colab": {
     "base_uri": "https://localhost:8080/",
     "height": 216
    },
    "colab_type": "code",
    "id": "aYPaJVIiQNtU",
    "outputId": "0abbdd10-3460-4975-adfb-353f8834ca48"
   },
   "outputs": [
    {
     "data": {
      "image/png": "[encoded data removed]",
      "text/plain": [
       "<Figure size 432x288 with 2 Axes>"
      ]
     },
     "metadata": {
      "tags": []
     },
     "output_type": "display_data"
    }
   ],
   "source": [
    "train_datagen = ImageDataGenerator(featurewise_center = True, \n",
    "                                   featurewise_std_normalization = True,\n",
    "                                   rotation_range = 5,\n",
    "                                   )\n",
    "test_datagen = ImageDataGenerator(featurewise_center = True, featurewise_std_normalization = True)\n",
    "train_datagen.fit(X_train)\n",
    "test_datagen.fit(X_test)\n",
    "\n",
    "fig, ax = plt.subplots(1,2)\n",
    "img = X_train[10]\n",
    "ax[0].imshow(img.reshape(28,28))\n",
    "ax[0].set_title(\"Before Nolmalizing\")\n",
    "train_datagen.standardize(img.reshape(1,28,28,1))\n",
    "ax[1].imshow(img.reshape(28,28))\n",
    "ax[1].set_title(\"After Normalizing\")\n",
    "plt.show()\n",
    "\n",
    "train_data_iter = train_datagen.flow(X_train,Y_train, batch_size = 64)\n",
    "test_data_iter =  test_datagen.flow(X_test,Y_test, batch_size = 10000)"
   ]
  },
  {
   "cell_type": "code",
   "execution_count": 15,
   "metadata": {
    "colab": {
     "base_uri": "https://localhost:8080/",
     "height": 1000
    },
    "colab_type": "code",
    "id": "2uKcvRpSQdFq",
    "outputId": "97205331-6e99-4c30-97ec-0b48f2c7a1a2"
   },
   "outputs": [
    {
     "name": "stdout",
     "output_type": "stream",
     "text": [
      "WARNING:tensorflow:From /usr/local/lib/python3.6/dist-packages/keras/backend/tensorflow_backend.py:66: The name tf.get_default_graph is deprecated. Please use tf.compat.v1.get_default_graph instead.\n",
      "\n",
      "WARNING:tensorflow:From /usr/local/lib/python3.6/dist-packages/keras/backend/tensorflow_backend.py:541: The name tf.placeholder is deprecated. Please use tf.compat.v1.placeholder instead.\n",
      "\n",
      "WARNING:tensorflow:From /usr/local/lib/python3.6/dist-packages/keras/backend/tensorflow_backend.py:4432: The name tf.random_uniform is deprecated. Please use tf.random.uniform instead.\n",
      "\n",
      "WARNING:tensorflow:From /usr/local/lib/python3.6/dist-packages/keras/backend/tensorflow_backend.py:190: The name tf.get_default_session is deprecated. Please use tf.compat.v1.get_default_session instead.\n",
      "\n",
      "WARNING:tensorflow:From /usr/local/lib/python3.6/dist-packages/keras/backend/tensorflow_backend.py:197: The name tf.ConfigProto is deprecated. Please use tf.compat.v1.ConfigProto instead.\n",
      "\n"
     ]
    },
    {
     "name": "stderr",
     "output_type": "stream",
     "text": [
      "/usr/local/lib/python3.6/dist-packages/ipykernel_launcher.py:4: UserWarning: Update your `Conv2D` call to the Keras 2 API: `Conv2D(16, (3, 3), input_shape=(28, 28, 1...)`\n",
      "  after removing the cwd from sys.path.\n"
     ]
    },
    {
     "name": "stdout",
     "output_type": "stream",
     "text": [
      "WARNING:tensorflow:From /usr/local/lib/python3.6/dist-packages/keras/backend/tensorflow_backend.py:2041: The name tf.nn.fused_batch_norm is deprecated. Please use tf.compat.v1.nn.fused_batch_norm instead.\n",
      "\n",
      "WARNING:tensorflow:From /usr/local/lib/python3.6/dist-packages/keras/backend/tensorflow_backend.py:3733: calling dropout (from tensorflow.python.ops.nn_ops) with keep_prob is deprecated and will be removed in a future version.\n",
      "Instructions for updating:\n",
      "Please use `rate` instead of `keep_prob`. Rate should be set to `rate = 1 - keep_prob`.\n",
      "WARNING:tensorflow:From /usr/local/lib/python3.6/dist-packages/keras/backend/tensorflow_backend.py:4267: The name tf.nn.max_pool is deprecated. Please use tf.nn.max_pool2d instead.\n",
      "\n"
     ]
    },
    {
     "name": "stderr",
     "output_type": "stream",
     "text": [
      "/usr/local/lib/python3.6/dist-packages/ipykernel_launcher.py:9: UserWarning: Update your `Conv2D` call to the Keras 2 API: `Conv2D(32, (3, 3))`\n",
      "  if __name__ == '__main__':\n",
      "/usr/local/lib/python3.6/dist-packages/ipykernel_launcher.py:21: UserWarning: Update your `Conv2D` call to the Keras 2 API: `Conv2D(16, (3, 3))`\n",
      "/usr/local/lib/python3.6/dist-packages/ipykernel_launcher.py:26: UserWarning: Update your `Conv2D` call to the Keras 2 API: `Conv2D(32, (3, 3))`\n"
     ]
    },
    {
     "name": "stdout",
     "output_type": "stream",
     "text": [
      "Model: \"sequential_1\"\n",
      "_________________________________________________________________\n",
      "Layer (type)                 Output Shape              Param #   \n",
      "=================================================================\n",
      "conv2d_1 (Conv2D)            (None, 26, 26, 16)        160       \n",
      "_________________________________________________________________\n",
      "batch_normalization_1 (Batch (None, 26, 26, 16)        64        \n",
      "_________________________________________________________________\n",
      "activation_1 (Activation)    (None, 26, 26, 16)        0         \n",
      "_________________________________________________________________\n",
      "dropout_1 (Dropout)          (None, 26, 26, 16)        0         \n",
      "_________________________________________________________________\n",
      "conv2d_2 (Conv2D)            (None, 24, 24, 32)        4640      \n",
      "_________________________________________________________________\n",
      "batch_normalization_2 (Batch (None, 24, 24, 32)        128       \n",
      "_________________________________________________________________\n",
      "activation_2 (Activation)    (None, 24, 24, 32)        0         \n",
      "_________________________________________________________________\n",
      "dropout_2 (Dropout)          (None, 24, 24, 32)        0         \n",
      "_________________________________________________________________\n",
      "max_pooling2d_1 (MaxPooling2 (None, 12, 12, 32)        0         \n",
      "_________________________________________________________________\n",
      "conv2d_3 (Conv2D)            (None, 12, 12, 10)        330       \n",
      "_________________________________________________________________\n",
      "batch_normalization_3 (Batch (None, 12, 12, 10)        40        \n",
      "_________________________________________________________________\n",
      "activation_3 (Activation)    (None, 12, 12, 10)        0         \n",
      "_________________________________________________________________\n",
      "dropout_3 (Dropout)          (None, 12, 12, 10)        0         \n",
      "_________________________________________________________________\n",
      "conv2d_4 (Conv2D)            (None, 10, 10, 16)        1456      \n",
      "_________________________________________________________________\n",
      "batch_normalization_4 (Batch (None, 10, 10, 16)        64        \n",
      "_________________________________________________________________\n",
      "activation_4 (Activation)    (None, 10, 10, 16)        0         \n",
      "_________________________________________________________________\n",
      "dropout_4 (Dropout)          (None, 10, 10, 16)        0         \n",
      "_________________________________________________________________\n",
      "conv2d_5 (Conv2D)            (None, 8, 8, 32)          4640      \n",
      "_________________________________________________________________\n",
      "batch_normalization_5 (Batch (None, 8, 8, 32)          128       \n",
      "_________________________________________________________________\n",
      "activation_5 (Activation)    (None, 8, 8, 32)          0         \n",
      "_________________________________________________________________\n",
      "dropout_5 (Dropout)          (None, 8, 8, 32)          0         \n",
      "_________________________________________________________________\n",
      "max_pooling2d_2 (MaxPooling2 (None, 4, 4, 32)          0         \n",
      "_________________________________________________________________\n",
      "conv2d_6 (Conv2D)            (None, 4, 4, 10)          330       \n",
      "_________________________________________________________________\n",
      "batch_normalization_6 (Batch (None, 4, 4, 10)          40        \n",
      "_________________________________________________________________\n",
      "activation_6 (Activation)    (None, 4, 4, 10)          0         \n",
      "_________________________________________________________________\n",
      "dropout_6 (Dropout)          (None, 4, 4, 10)          0         \n",
      "_________________________________________________________________\n",
      "conv2d_7 (Conv2D)            (None, 1, 1, 10)          1610      \n",
      "_________________________________________________________________\n",
      "flatten_1 (Flatten)          (None, 10)                0         \n",
      "_________________________________________________________________\n",
      "activation_7 (Activation)    (None, 10)                0         \n",
      "=================================================================\n",
      "Total params: 13,630\n",
      "Trainable params: 13,398\n",
      "Non-trainable params: 232\n",
      "_________________________________________________________________\n"
     ]
    }
   ],
   "source": [
    "model = get_model()"
   ]
  },
  {
   "cell_type": "code",
   "execution_count": 16,
   "metadata": {
    "colab": {
     "base_uri": "https://localhost:8080/",
     "height": 71
    },
    "colab_type": "code",
    "id": "NPcwpDvJyHWF",
    "outputId": "cbc13033-9365-4c92-831f-5e60c0d78c15"
   },
   "outputs": [
    {
     "name": "stdout",
     "output_type": "stream",
     "text": [
      "WARNING:tensorflow:From /usr/local/lib/python3.6/dist-packages/keras/optimizers.py:793: The name tf.train.Optimizer is deprecated. Please use tf.compat.v1.train.Optimizer instead.\n",
      "\n"
     ]
    }
   ],
   "source": [
    "#compile the model\n",
    "lambd=0.01\n",
    "model.compile(loss=custom_loss(lambd, model, 64), optimizer=Adam(lr=0.003), metrics=['accuracy'])"
   ]
  },
  {
   "cell_type": "code",
   "execution_count": 0,
   "metadata": {
    "colab": {},
    "colab_type": "code",
    "id": "uUie8zmK-nix"
   },
   "outputs": [],
   "source": [
    "#checkpoint\n",
    "filepath=\"best_model.hdf5\"\n",
    "checkpoint = ModelCheckpoint(filepath, monitor='val_acc', verbose=1, save_best_only=True, mode='max')\n",
    "callbacks_list = [checkpoint,LearningRateScheduler(scheduler, verbose=1)]"
   ]
  },
  {
   "cell_type": "code",
   "execution_count": 18,
   "metadata": {
    "colab": {
     "base_uri": "https://localhost:8080/",
     "height": 1000
    },
    "colab_type": "code",
    "id": "MdbWBGwlQ5FU",
    "outputId": "f320a55c-f906-482d-fcbe-2051266c30df"
   },
   "outputs": [
    {
     "name": "stdout",
     "output_type": "stream",
     "text": [
      "WARNING:tensorflow:From /usr/local/lib/python3.6/dist-packages/tensorflow/python/ops/math_grad.py:1250: add_dispatch_support.<locals>.wrapper (from tensorflow.python.ops.array_ops) is deprecated and will be removed in a future version.\n",
      "Instructions for updating:\n",
      "Use tf.where in 2.0, which has the same broadcast rule as np.where\n",
      "Epoch 1/40\n",
      "\n",
      "Epoch 00001: LearningRateScheduler setting learning rate to 0.003.\n",
      "2000/2000 [==============================] - 62s 31ms/step - loss: 0.1381 - acc: 0.9620 - val_loss: 0.0533 - val_acc: 0.9880\n",
      "\n",
      "Epoch 00001: val_acc improved from -inf to 0.98800, saving model to best_model.hdf5\n",
      "Epoch 2/40\n",
      "\n",
      "Epoch 00002: LearningRateScheduler setting learning rate to 0.0022744503.\n",
      "2000/2000 [==============================] - 58s 29ms/step - loss: 0.0698 - acc: 0.9833 - val_loss: 0.0487 - val_acc: 0.9908\n",
      "\n",
      "Epoch 00002: val_acc improved from 0.98800 to 0.99080, saving model to best_model.hdf5\n",
      "Epoch 3/40\n",
      "\n",
      "Epoch 00003: LearningRateScheduler setting learning rate to 0.0018315018.\n",
      "2000/2000 [==============================] - 58s 29ms/step - loss: 0.0617 - acc: 0.9863 - val_loss: 0.0444 - val_acc: 0.9912\n",
      "\n",
      "Epoch 00003: val_acc improved from 0.99080 to 0.99120, saving model to best_model.hdf5\n",
      "Epoch 4/40\n",
      "\n",
      "Epoch 00004: LearningRateScheduler setting learning rate to 0.0015329586.\n",
      "2000/2000 [==============================] - 58s 29ms/step - loss: 0.0572 - acc: 0.9876 - val_loss: 0.0409 - val_acc: 0.9918\n",
      "\n",
      "Epoch 00004: val_acc improved from 0.99120 to 0.99180, saving model to best_model.hdf5\n",
      "Epoch 5/40\n",
      "\n",
      "Epoch 00005: LearningRateScheduler setting learning rate to 0.0013181019.\n",
      "2000/2000 [==============================] - 58s 29ms/step - loss: 0.0527 - acc: 0.9888 - val_loss: 0.0423 - val_acc: 0.9924\n",
      "\n",
      "Epoch 00005: val_acc improved from 0.99180 to 0.99240, saving model to best_model.hdf5\n",
      "Epoch 6/40\n",
      "\n",
      "Epoch 00006: LearningRateScheduler setting learning rate to 0.0011560694.\n",
      "2000/2000 [==============================] - 58s 29ms/step - loss: 0.0493 - acc: 0.9895 - val_loss: 0.0384 - val_acc: 0.9927\n",
      "\n",
      "Epoch 00006: val_acc improved from 0.99240 to 0.99270, saving model to best_model.hdf5\n",
      "Epoch 7/40\n",
      "\n",
      "Epoch 00007: LearningRateScheduler setting learning rate to 0.0010295127.\n",
      "2000/2000 [==============================] - 58s 29ms/step - loss: 0.0457 - acc: 0.9901 - val_loss: 0.0358 - val_acc: 0.9936\n",
      "\n",
      "Epoch 00007: val_acc improved from 0.99270 to 0.99360, saving model to best_model.hdf5\n",
      "Epoch 8/40\n",
      "\n",
      "Epoch 00008: LearningRateScheduler setting learning rate to 0.0009279307.\n",
      "2000/2000 [==============================] - 58s 29ms/step - loss: 0.0444 - acc: 0.9908 - val_loss: 0.0352 - val_acc: 0.9925\n",
      "\n",
      "Epoch 00008: val_acc did not improve from 0.99360\n",
      "Epoch 9/40\n",
      "\n",
      "Epoch 00009: LearningRateScheduler setting learning rate to 0.0008445946.\n",
      "2000/2000 [==============================] - 58s 29ms/step - loss: 0.0417 - acc: 0.9915 - val_loss: 0.0348 - val_acc: 0.9931\n",
      "\n",
      "Epoch 00009: val_acc did not improve from 0.99360\n",
      "Epoch 10/40\n",
      "\n",
      "Epoch 00010: LearningRateScheduler setting learning rate to 0.0007749935.\n",
      "2000/2000 [==============================] - 58s 29ms/step - loss: 0.0406 - acc: 0.9917 - val_loss: 0.0328 - val_acc: 0.9935\n",
      "\n",
      "Epoch 00010: val_acc did not improve from 0.99360\n",
      "Epoch 11/40\n",
      "\n",
      "Epoch 00011: LearningRateScheduler setting learning rate to 0.0007159905.\n",
      "2000/2000 [==============================] - 58s 29ms/step - loss: 0.0392 - acc: 0.9920 - val_loss: 0.0330 - val_acc: 0.9933\n",
      "\n",
      "Epoch 00011: val_acc did not improve from 0.99360\n",
      "Epoch 12/40\n",
      "\n",
      "Epoch 00012: LearningRateScheduler setting learning rate to 0.000665336.\n",
      "2000/2000 [==============================] - 58s 29ms/step - loss: 0.0379 - acc: 0.9923 - val_loss: 0.0328 - val_acc: 0.9930\n",
      "\n",
      "Epoch 00012: val_acc did not improve from 0.99360\n",
      "Epoch 13/40\n",
      "\n",
      "Epoch 00013: LearningRateScheduler setting learning rate to 0.0006213753.\n",
      "2000/2000 [==============================] - 59s 29ms/step - loss: 0.0366 - acc: 0.9925 - val_loss: 0.0318 - val_acc: 0.9940\n",
      "\n",
      "Epoch 00013: val_acc improved from 0.99360 to 0.99400, saving model to best_model.hdf5\n",
      "Epoch 14/40\n",
      "\n",
      "Epoch 00014: LearningRateScheduler setting learning rate to 0.0005828638.\n",
      "2000/2000 [==============================] - 57s 29ms/step - loss: 0.0354 - acc: 0.9927 - val_loss: 0.0317 - val_acc: 0.9942\n",
      "\n",
      "Epoch 00014: val_acc improved from 0.99400 to 0.99420, saving model to best_model.hdf5\n",
      "Epoch 15/40\n",
      "\n",
      "Epoch 00015: LearningRateScheduler setting learning rate to 0.0005488474.\n",
      "2000/2000 [==============================] - 58s 29ms/step - loss: 0.0341 - acc: 0.9932 - val_loss: 0.0319 - val_acc: 0.9939\n",
      "\n",
      "Epoch 00015: val_acc did not improve from 0.99420\n",
      "Epoch 16/40\n",
      "\n",
      "Epoch 00016: LearningRateScheduler setting learning rate to 0.0005185825.\n",
      "2000/2000 [==============================] - 58s 29ms/step - loss: 0.0343 - acc: 0.9928 - val_loss: 0.0290 - val_acc: 0.9945\n",
      "\n",
      "Epoch 00016: val_acc improved from 0.99420 to 0.99450, saving model to best_model.hdf5\n",
      "Epoch 17/40\n",
      "\n",
      "Epoch 00017: LearningRateScheduler setting learning rate to 0.000491481.\n",
      "2000/2000 [==============================] - 58s 29ms/step - loss: 0.0323 - acc: 0.9935 - val_loss: 0.0340 - val_acc: 0.9932\n",
      "\n",
      "Epoch 00017: val_acc did not improve from 0.99450\n",
      "Epoch 18/40\n",
      "\n",
      "Epoch 00018: LearningRateScheduler setting learning rate to 0.0004670715.\n",
      "2000/2000 [==============================] - 58s 29ms/step - loss: 0.0332 - acc: 0.9930 - val_loss: 0.0304 - val_acc: 0.9940\n",
      "\n",
      "Epoch 00018: val_acc did not improve from 0.99450\n",
      "Epoch 19/40\n",
      "\n",
      "Epoch 00019: LearningRateScheduler setting learning rate to 0.0004449718.\n",
      "2000/2000 [==============================] - 58s 29ms/step - loss: 0.0315 - acc: 0.9934 - val_loss: 0.0296 - val_acc: 0.9939\n",
      "\n",
      "Epoch 00019: val_acc did not improve from 0.99450\n",
      "Epoch 20/40\n",
      "\n",
      "Epoch 00020: LearningRateScheduler setting learning rate to 0.000424869.\n",
      "2000/2000 [==============================] - 58s 29ms/step - loss: 0.0314 - acc: 0.9936 - val_loss: 0.0283 - val_acc: 0.9945\n",
      "\n",
      "Epoch 00020: val_acc did not improve from 0.99450\n",
      "Epoch 21/40\n",
      "\n",
      "Epoch 00021: LearningRateScheduler setting learning rate to 0.0004065041.\n",
      "2000/2000 [==============================] - 58s 29ms/step - loss: 0.0306 - acc: 0.9939 - val_loss: 0.0298 - val_acc: 0.9937\n",
      "\n",
      "Epoch 00021: val_acc did not improve from 0.99450\n",
      "Epoch 22/40\n",
      "\n",
      "Epoch 00022: LearningRateScheduler setting learning rate to 0.000389661.\n",
      "2000/2000 [==============================] - 58s 29ms/step - loss: 0.0296 - acc: 0.9940 - val_loss: 0.0283 - val_acc: 0.9934\n",
      "\n",
      "Epoch 00022: val_acc did not improve from 0.99450\n",
      "Epoch 23/40\n",
      "\n",
      "Epoch 00023: LearningRateScheduler setting learning rate to 0.0003741581.\n",
      "2000/2000 [==============================] - 58s 29ms/step - loss: 0.0293 - acc: 0.9939 - val_loss: 0.0292 - val_acc: 0.9938\n",
      "\n",
      "Epoch 00023: val_acc did not improve from 0.99450\n",
      "Epoch 24/40\n",
      "\n",
      "Epoch 00024: LearningRateScheduler setting learning rate to 0.0003598417.\n",
      "2000/2000 [==============================] - 58s 29ms/step - loss: 0.0289 - acc: 0.9940 - val_loss: 0.0283 - val_acc: 0.9940\n",
      "\n",
      "Epoch 00024: val_acc did not improve from 0.99450\n",
      "Epoch 25/40\n",
      "\n",
      "Epoch 00025: LearningRateScheduler setting learning rate to 0.0003465804.\n",
      "2000/2000 [==============================] - 58s 29ms/step - loss: 0.0282 - acc: 0.9943 - val_loss: 0.0278 - val_acc: 0.9936\n",
      "\n",
      "Epoch 00025: val_acc did not improve from 0.99450\n",
      "Epoch 26/40\n",
      "\n",
      "Epoch 00026: LearningRateScheduler setting learning rate to 0.0003342618.\n",
      "2000/2000 [==============================] - 58s 29ms/step - loss: 0.0290 - acc: 0.9940 - val_loss: 0.0267 - val_acc: 0.9948\n",
      "\n",
      "Epoch 00026: val_acc improved from 0.99450 to 0.99480, saving model to best_model.hdf5\n",
      "Epoch 27/40\n",
      "\n",
      "Epoch 00027: LearningRateScheduler setting learning rate to 0.0003227889.\n",
      "2000/2000 [==============================] - 58s 29ms/step - loss: 0.0265 - acc: 0.9948 - val_loss: 0.0293 - val_acc: 0.9937\n",
      "\n",
      "Epoch 00027: val_acc did not improve from 0.99480\n",
      "Epoch 28/40\n",
      "\n",
      "Epoch 00028: LearningRateScheduler setting learning rate to 0.0003120774.\n",
      "2000/2000 [==============================] - 58s 29ms/step - loss: 0.0285 - acc: 0.9939 - val_loss: 0.0277 - val_acc: 0.9937\n",
      "\n",
      "Epoch 00028: val_acc did not improve from 0.99480\n",
      "Epoch 29/40\n",
      "\n",
      "Epoch 00029: LearningRateScheduler setting learning rate to 0.000302054.\n",
      "2000/2000 [==============================] - 59s 29ms/step - loss: 0.0270 - acc: 0.9944 - val_loss: 0.0265 - val_acc: 0.9941\n",
      "\n",
      "Epoch 00029: val_acc did not improve from 0.99480\n",
      "Epoch 30/40\n",
      "\n",
      "Epoch 00030: LearningRateScheduler setting learning rate to 0.0002926544.\n",
      "2000/2000 [==============================] - 58s 29ms/step - loss: 0.0266 - acc: 0.9943 - val_loss: 0.0252 - val_acc: 0.9945\n",
      "\n",
      "Epoch 00030: val_acc did not improve from 0.99480\n",
      "Epoch 31/40\n",
      "\n",
      "Epoch 00031: LearningRateScheduler setting learning rate to 0.0002838221.\n",
      "2000/2000 [==============================] - 58s 29ms/step - loss: 0.0263 - acc: 0.9947 - val_loss: 0.0278 - val_acc: 0.9941\n",
      "\n",
      "Epoch 00031: val_acc did not improve from 0.99480\n",
      "Epoch 32/40\n",
      "\n",
      "Epoch 00032: LearningRateScheduler setting learning rate to 0.0002755074.\n",
      "2000/2000 [==============================] - 58s 29ms/step - loss: 0.0251 - acc: 0.9949 - val_loss: 0.0267 - val_acc: 0.9937\n",
      "\n",
      "Epoch 00032: val_acc did not improve from 0.99480\n",
      "Epoch 33/40\n",
      "\n",
      "Epoch 00033: LearningRateScheduler setting learning rate to 0.000267666.\n",
      "2000/2000 [==============================] - 58s 29ms/step - loss: 0.0266 - acc: 0.9943 - val_loss: 0.0263 - val_acc: 0.9949\n",
      "\n",
      "Epoch 00033: val_acc improved from 0.99480 to 0.99490, saving model to best_model.hdf5\n",
      "Epoch 34/40\n",
      "\n",
      "Epoch 00034: LearningRateScheduler setting learning rate to 0.0002602585.\n",
      "2000/2000 [==============================] - 58s 29ms/step - loss: 0.0256 - acc: 0.9948 - val_loss: 0.0265 - val_acc: 0.9943\n",
      "\n",
      "Epoch 00034: val_acc did not improve from 0.99490\n",
      "Epoch 35/40\n",
      "\n",
      "Epoch 00035: LearningRateScheduler setting learning rate to 0.00025325.\n",
      "2000/2000 [==============================] - 58s 29ms/step - loss: 0.0251 - acc: 0.9949 - val_loss: 0.0259 - val_acc: 0.9940\n",
      "\n",
      "Epoch 00035: val_acc did not improve from 0.99490\n",
      "Epoch 36/40\n",
      "\n",
      "Epoch 00036: LearningRateScheduler setting learning rate to 0.0002466091.\n",
      "2000/2000 [==============================] - 58s 29ms/step - loss: 0.0243 - acc: 0.9949 - val_loss: 0.0263 - val_acc: 0.9946\n",
      "\n",
      "Epoch 00036: val_acc did not improve from 0.99490\n",
      "Epoch 37/40\n",
      "\n",
      "Epoch 00037: LearningRateScheduler setting learning rate to 0.0002403076.\n",
      "2000/2000 [==============================] - 58s 29ms/step - loss: 0.0241 - acc: 0.9951 - val_loss: 0.0284 - val_acc: 0.9942\n",
      "\n",
      "Epoch 00037: val_acc did not improve from 0.99490\n",
      "Epoch 38/40\n",
      "\n",
      "Epoch 00038: LearningRateScheduler setting learning rate to 0.0002343201.\n",
      "2000/2000 [==============================] - 58s 29ms/step - loss: 0.0240 - acc: 0.9950 - val_loss: 0.0262 - val_acc: 0.9952\n",
      "\n",
      "Epoch 00038: val_acc improved from 0.99490 to 0.99520, saving model to best_model.hdf5\n",
      "Epoch 39/40\n",
      "\n",
      "Epoch 00039: LearningRateScheduler setting learning rate to 0.0002286237.\n",
      "2000/2000 [==============================] - 58s 29ms/step - loss: 0.0240 - acc: 0.9952 - val_loss: 0.0260 - val_acc: 0.9941\n",
      "\n",
      "Epoch 00039: val_acc did not improve from 0.99520\n",
      "Epoch 40/40\n",
      "\n",
      "Epoch 00040: LearningRateScheduler setting learning rate to 0.0002231977.\n",
      "2000/2000 [==============================] - 58s 29ms/step - loss: 0.0239 - acc: 0.9952 - val_loss: 0.0262 - val_acc: 0.9940\n",
      "\n",
      "Epoch 00040: val_acc did not improve from 0.99520\n",
      "Best Validation Accuracy : 0.9952\n"
     ]
    }
   ],
   "source": [
    "history= model.fit_generator(train_data_iter, steps_per_epoch = 2000, epochs = 40, callbacks = callbacks_list, validation_data = test_data_iter.next(), verbose = 1)\n",
    "  \n",
    "print(\"Best Validation Accuracy : {}\".format(np.max(history.history['val_acc'])))\n",
    "  \n"
   ]
  },
  {
   "cell_type": "code",
   "execution_count": 19,
   "metadata": {
    "colab": {
     "base_uri": "https://localhost:8080/",
     "height": 295
    },
    "colab_type": "code",
    "id": "z4YV37XRryB6",
    "outputId": "12c04c3d-dbd9-4eea-b5b1-149a5fd7f042"
   },
   "outputs": [
    {
     "data": {
      "image/png": "[encoded data removed]",
      "text/plain": [
       "<Figure size 432x288 with 1 Axes>"
      ]
     },
     "metadata": {
      "tags": []
     },
     "output_type": "display_data"
    }
   ],
   "source": [
    "# summarize history for accuracy\n",
    "plt.plot(history.history['acc'])\n",
    "plt.plot(history.history['val_acc'])\n",
    "plt.title('model accuracy')\n",
    "plt.ylabel('accuracy')\n",
    "plt.xlabel('epoch')\n",
    "plt.legend(['train', 'val'], loc='upper left')\n",
    "plt.show()"
   ]
  },
  {
   "cell_type": "markdown",
   "metadata": {
    "colab_type": "text",
    "id": "IdGCdY1z-PMa"
   },
   "source": [
    "Model has achieved the target of 99.4% of validation accuracy in epoch 13."
   ]
  },
  {
   "cell_type": "code",
   "execution_count": 20,
   "metadata": {
    "colab": {
     "base_uri": "https://localhost:8080/",
     "height": 295
    },
    "colab_type": "code",
    "id": "R8vrxqyisAIk",
    "outputId": "12571f1b-a0d9-4d72-db4e-54c01c9ff93f"
   },
   "outputs": [
    {
     "data": {
      "image/png": "[encoded data removed]",
      "text/plain": [
       "<Figure size 432x288 with 1 Axes>"
      ]
     },
     "metadata": {
      "tags": []
     },
     "output_type": "display_data"
    }
   ],
   "source": [
    "# summarize history for loss\n",
    "plt.plot(history.history['loss'])\n",
    "plt.plot(history.history['val_loss'])\n",
    "plt.title('model loss')\n",
    "plt.ylabel('loss')\n",
    "plt.xlabel('epoch')\n",
    "plt.legend(['train', 'val'], loc='upper left')\n",
    "plt.show()"
   ]
  },
  {
   "cell_type": "markdown",
   "metadata": {
    "colab_type": "text",
    "id": "RFb5RCN_-nbI"
   },
   "source": [
    "Training and validation losses are comparable."
   ]
  },
  {
   "cell_type": "code",
   "execution_count": 21,
   "metadata": {
    "colab": {
     "base_uri": "https://localhost:8080/",
     "height": 1000
    },
    "colab_type": "code",
    "id": "omMeOufSAGKd",
    "outputId": "04829e83-2630-4a21-f79b-2ea5f8c1db01"
   },
   "outputs": [
    {
     "name": "stderr",
     "output_type": "stream",
     "text": [
      "/usr/local/lib/python3.6/dist-packages/ipykernel_launcher.py:4: UserWarning: Update your `Conv2D` call to the Keras 2 API: `Conv2D(16, (3, 3), input_shape=(28, 28, 1...)`\n",
      "  after removing the cwd from sys.path.\n",
      "/usr/local/lib/python3.6/dist-packages/ipykernel_launcher.py:9: UserWarning: Update your `Conv2D` call to the Keras 2 API: `Conv2D(32, (3, 3))`\n",
      "  if __name__ == '__main__':\n",
      "/usr/local/lib/python3.6/dist-packages/ipykernel_launcher.py:21: UserWarning: Update your `Conv2D` call to the Keras 2 API: `Conv2D(16, (3, 3))`\n",
      "/usr/local/lib/python3.6/dist-packages/ipykernel_launcher.py:26: UserWarning: Update your `Conv2D` call to the Keras 2 API: `Conv2D(32, (3, 3))`\n"
     ]
    },
    {
     "name": "stdout",
     "output_type": "stream",
     "text": [
      "Model: \"sequential_2\"\n",
      "_________________________________________________________________\n",
      "Layer (type)                 Output Shape              Param #   \n",
      "=================================================================\n",
      "conv2d_8 (Conv2D)            (None, 26, 26, 16)        160       \n",
      "_________________________________________________________________\n",
      "batch_normalization_7 (Batch (None, 26, 26, 16)        64        \n",
      "_________________________________________________________________\n",
      "activation_8 (Activation)    (None, 26, 26, 16)        0         \n",
      "_________________________________________________________________\n",
      "dropout_7 (Dropout)          (None, 26, 26, 16)        0         \n",
      "_________________________________________________________________\n",
      "conv2d_9 (Conv2D)            (None, 24, 24, 32)        4640      \n",
      "_________________________________________________________________\n",
      "batch_normalization_8 (Batch (None, 24, 24, 32)        128       \n",
      "_________________________________________________________________\n",
      "activation_9 (Activation)    (None, 24, 24, 32)        0         \n",
      "_________________________________________________________________\n",
      "dropout_8 (Dropout)          (None, 24, 24, 32)        0         \n",
      "_________________________________________________________________\n",
      "max_pooling2d_3 (MaxPooling2 (None, 12, 12, 32)        0         \n",
      "_________________________________________________________________\n",
      "conv2d_10 (Conv2D)           (None, 12, 12, 10)        330       \n",
      "_________________________________________________________________\n",
      "batch_normalization_9 (Batch (None, 12, 12, 10)        40        \n",
      "_________________________________________________________________\n",
      "activation_10 (Activation)   (None, 12, 12, 10)        0         \n",
      "_________________________________________________________________\n",
      "dropout_9 (Dropout)          (None, 12, 12, 10)        0         \n",
      "_________________________________________________________________\n",
      "conv2d_11 (Conv2D)           (None, 10, 10, 16)        1456      \n",
      "_________________________________________________________________\n",
      "batch_normalization_10 (Batc (None, 10, 10, 16)        64        \n",
      "_________________________________________________________________\n",
      "activation_11 (Activation)   (None, 10, 10, 16)        0         \n",
      "_________________________________________________________________\n",
      "dropout_10 (Dropout)         (None, 10, 10, 16)        0         \n",
      "_________________________________________________________________\n",
      "conv2d_12 (Conv2D)           (None, 8, 8, 32)          4640      \n",
      "_________________________________________________________________\n",
      "batch_normalization_11 (Batc (None, 8, 8, 32)          128       \n",
      "_________________________________________________________________\n",
      "activation_12 (Activation)   (None, 8, 8, 32)          0         \n",
      "_________________________________________________________________\n",
      "dropout_11 (Dropout)         (None, 8, 8, 32)          0         \n",
      "_________________________________________________________________\n",
      "max_pooling2d_4 (MaxPooling2 (None, 4, 4, 32)          0         \n",
      "_________________________________________________________________\n",
      "conv2d_13 (Conv2D)           (None, 4, 4, 10)          330       \n",
      "_________________________________________________________________\n",
      "batch_normalization_12 (Batc (None, 4, 4, 10)          40        \n",
      "_________________________________________________________________\n",
      "activation_13 (Activation)   (None, 4, 4, 10)          0         \n",
      "_________________________________________________________________\n",
      "dropout_12 (Dropout)         (None, 4, 4, 10)          0         \n",
      "_________________________________________________________________\n",
      "conv2d_14 (Conv2D)           (None, 1, 1, 10)          1610      \n",
      "_________________________________________________________________\n",
      "flatten_2 (Flatten)          (None, 10)                0         \n",
      "_________________________________________________________________\n",
      "activation_14 (Activation)   (None, 10)                0         \n",
      "=================================================================\n",
      "Total params: 13,630\n",
      "Trainable params: 13,398\n",
      "Non-trainable params: 232\n",
      "_________________________________________________________________\n"
     ]
    }
   ],
   "source": [
    "#load compile and predict.\n",
    "model = get_model()\n",
    "model.load_weights('best_model.hdf5')\n",
    "model.compile(loss= 'categorical_crossentropy',\n",
    "             optimizer='adam',\n",
    "             metrics=['accuracy'])\n",
    "\n",
    "X_val,Y_val = test_data_iter.next()\n",
    "\n",
    "Y_pred = model.predict(X_val)\n"
   ]
  },
  {
   "cell_type": "code",
   "execution_count": 22,
   "metadata": {
    "colab": {
     "base_uri": "https://localhost:8080/",
     "height": 708
    },
    "colab_type": "code",
    "id": "LhRF0LoUSTf9",
    "outputId": "2e2a7a3e-7366-408f-ed87-16ebecb22fd8"
   },
   "outputs": [
    {
     "data": {
      "image/png": "[encoded data removed]",
      "text/plain": [
       "<Figure size 720x720 with 25 Axes>"
      ]
     },
     "metadata": {
      "tags": []
     },
     "output_type": "display_data"
    }
   ],
   "source": [
    "#Plot missclassified images.\n",
    "misclassified_idx = []\n",
    "\n",
    "for i in range(len(Y_val)):\n",
    "  if np.argmax(Y_val[i])!= np.argmax(Y_pred[i]):\n",
    "    misclassified_idx.append(i)\n",
    "\n",
    "plt_idx = np.random.choice(misclassified_idx, 25)\n",
    "fig, ax = plt.subplots(5,5,figsize = (10,10))\n",
    "fig.tight_layout()\n",
    "fig.suptitle('Misclassified Images')\n",
    "plt.subplots_adjust(left=None, bottom=None, right=None, top=0.92, wspace=None, hspace=None)\n",
    "k = 0\n",
    "for i in range(5):\n",
    "  for j in range(5):\n",
    "    img = X_val[plt_idx[k]].reshape(28,28)\n",
    "    pred = np.argmax(Y_pred[plt_idx[k]])\n",
    "    ax[i,j].set_xticklabels([])\n",
    "    ax[i,j].set_yticklabels([])\n",
    "    ax[i,j].imshow(img)\n",
    "    ax[i,j].set_title(\"Prediction : {}\".format(pred))\n",
    "    k += 1\n"
   ]
  }
 ],
 "metadata": {
  "accelerator": "GPU",
  "colab": {
   "collapsed_sections": [],
   "name": "ReLu_after_BN.ipynb",
   "provenance": [],
   "version": "0.3.2"
  },
  "kernelspec": {
   "display_name": "Python 3",
   "language": "python",
   "name": "python3"
  },
  "language_info": {
   "codemirror_mode": {
    "name": "ipython",
    "version": 3
   },
   "file_extension": ".py",
   "mimetype": "text/x-python",
   "name": "python",
   "nbconvert_exporter": "python",
   "pygments_lexer": "ipython3",
   "version": "3.7.3"
  }
 },
 "nbformat": 4,
 "nbformat_minor": 1
}
