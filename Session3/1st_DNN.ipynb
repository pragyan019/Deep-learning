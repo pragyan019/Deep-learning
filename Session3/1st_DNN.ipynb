{
  "nbformat": 4,
  "nbformat_minor": 0,
  "metadata": {
    "colab": {
      "name": "1st DNN.ipynb",
      "version": "0.3.2",
      "provenance": [],
      "collapsed_sections": []
    },
    "kernelspec": {
      "name": "python3",
      "display_name": "Python 3"
    },
    "accelerator": "GPU"
  },
  "cells": [
    {
      "cell_type": "markdown",
      "metadata": {
        "id": "aNyZv-Ec52ot",
        "colab_type": "text"
      },
      "source": [
        "# **Import Libraries and modules**"
      ]
    },
    {
      "cell_type": "code",
      "metadata": {
        "id": "3m3w1Cw49Zkt",
        "colab_type": "code",
        "colab": {
          "base_uri": "https://localhost:8080/",
          "height": 34
        },
        "outputId": "81d0f7a2-5057-48aa-81ca-084f99daf96c"
      },
      "source": [
        "# https://keras.io/\n",
        "!pip install -q keras\n",
        "import keras"
      ],
      "execution_count": 1,
      "outputs": [
        {
          "output_type": "stream",
          "text": [
            "Using TensorFlow backend.\n"
          ],
          "name": "stderr"
        }
      ]
    },
    {
      "cell_type": "code",
      "metadata": {
        "id": "Eso6UHE080D4",
        "colab_type": "code",
        "colab": {}
      },
      "source": [
        "#import the libraries\n",
        "import numpy as np\n",
        "\n",
        "from keras.models import Sequential\n",
        "from keras.layers import Dense, Dropout, Activation, Flatten, Add\n",
        "from keras.layers import Convolution2D, MaxPooling2D\n",
        "from keras.utils import np_utils\n",
        "\n",
        "from keras.datasets import mnist"
      ],
      "execution_count": 0,
      "outputs": []
    },
    {
      "cell_type": "code",
      "metadata": {
        "id": "qcIedKxkoBo4",
        "colab_type": "code",
        "colab": {}
      },
      "source": [
        "# fix random seed for reproducibility\n",
        "seed = 7\n",
        "np.random.seed(seed)"
      ],
      "execution_count": 0,
      "outputs": []
    },
    {
      "cell_type": "markdown",
      "metadata": {
        "id": "zByEi95J86RD",
        "colab_type": "text"
      },
      "source": [
        "### Load pre-shuffled MNIST data into train and test sets"
      ]
    },
    {
      "cell_type": "code",
      "metadata": {
        "id": "7eRM0QWN83PV",
        "colab_type": "code",
        "colab": {}
      },
      "source": [
        "#load the test and train data\n",
        "(X_train, y_train), (X_test, y_test) = mnist.load_data()"
      ],
      "execution_count": 0,
      "outputs": []
    },
    {
      "cell_type": "code",
      "metadata": {
        "id": "4a4Be72j8-ZC",
        "colab_type": "code",
        "outputId": "fe7221c0-156c-4bec-e1f8-d4e224726699",
        "colab": {
          "base_uri": "https://localhost:8080/",
          "height": 303
        }
      },
      "source": [
        "#training data shape\n",
        "print (X_train.shape)\n",
        "from matplotlib import pyplot as plt\n",
        "%matplotlib inline\n",
        "#visualize first example\n",
        "plt.imshow(X_train[0])"
      ],
      "execution_count": 5,
      "outputs": [
        {
          "output_type": "stream",
          "text": [
            "(60000, 28, 28)\n"
          ],
          "name": "stdout"
        },
        {
          "output_type": "execute_result",
          "data": {
            "text/plain": [
              "<matplotlib.image.AxesImage at 0x7f0746650940>"
            ]
          },
          "metadata": {
            "tags": []
          },
          "execution_count": 5
        },
        {
          "output_type": "display_data",
          "data": {
            "image/png": "[encoded data removed]",
            "text/plain": [
              "<Figure size 432x288 with 1 Axes>"
            ]
          },
          "metadata": {
            "tags": []
          }
        }
      ]
    },
    {
      "cell_type": "code",
      "metadata": {
        "id": "dkmprriw9AnZ",
        "colab_type": "code",
        "colab": {}
      },
      "source": [
        "#reshape the training and test data\n",
        "X_train = X_train.reshape(X_train.shape[0], 28, 28,1)\n",
        "X_test = X_test.reshape(X_test.shape[0], 28, 28,1)"
      ],
      "execution_count": 0,
      "outputs": []
    },
    {
      "cell_type": "code",
      "metadata": {
        "id": "X2m4YS4E9CRh",
        "colab_type": "code",
        "colab": {}
      },
      "source": [
        "#convert to 'float32' and divide by 255 to scale it in [0,1]\n",
        "X_train = X_train.astype('float32')\n",
        "X_test = X_test.astype('float32')\n",
        "X_train /= 255\n",
        "X_test /= 255"
      ],
      "execution_count": 0,
      "outputs": []
    },
    {
      "cell_type": "code",
      "metadata": {
        "id": "0Mn0vAYD9DvB",
        "colab_type": "code",
        "outputId": "c8f24d2c-92b9-4c03-8fcd-a0ebeefe6f46",
        "colab": {
          "base_uri": "https://localhost:8080/",
          "height": 34
        }
      },
      "source": [
        "#print the 1st 10 training examples\n",
        "y_train[:10]"
      ],
      "execution_count": 8,
      "outputs": [
        {
          "output_type": "execute_result",
          "data": {
            "text/plain": [
              "array([5, 0, 4, 1, 9, 2, 1, 3, 1, 4], dtype=uint8)"
            ]
          },
          "metadata": {
            "tags": []
          },
          "execution_count": 8
        }
      ]
    },
    {
      "cell_type": "code",
      "metadata": {
        "id": "ZG8JiXR39FHC",
        "colab_type": "code",
        "colab": {}
      },
      "source": [
        "# Convert 1-dimensional class arrays to 10-dimensional class matrices\n",
        "Y_train = np_utils.to_categorical(y_train, 10)\n",
        "Y_test = np_utils.to_categorical(y_test, 10)"
      ],
      "execution_count": 0,
      "outputs": []
    },
    {
      "cell_type": "code",
      "metadata": {
        "id": "fYlFRvKS9HMB",
        "colab_type": "code",
        "outputId": "602e04ae-5b81-461a-8375-88374fe2eb8c",
        "colab": {
          "base_uri": "https://localhost:8080/",
          "height": 187
        }
      },
      "source": [
        "#one hot encoded data\n",
        "Y_train[:10]\n"
      ],
      "execution_count": 10,
      "outputs": [
        {
          "output_type": "execute_result",
          "data": {
            "text/plain": [
              "array([[0., 0., 0., 0., 0., 1., 0., 0., 0., 0.],\n",
              "       [1., 0., 0., 0., 0., 0., 0., 0., 0., 0.],\n",
              "       [0., 0., 0., 0., 1., 0., 0., 0., 0., 0.],\n",
              "       [0., 1., 0., 0., 0., 0., 0., 0., 0., 0.],\n",
              "       [0., 0., 0., 0., 0., 0., 0., 0., 0., 1.],\n",
              "       [0., 0., 1., 0., 0., 0., 0., 0., 0., 0.],\n",
              "       [0., 1., 0., 0., 0., 0., 0., 0., 0., 0.],\n",
              "       [0., 0., 0., 1., 0., 0., 0., 0., 0., 0.],\n",
              "       [0., 1., 0., 0., 0., 0., 0., 0., 0., 0.],\n",
              "       [0., 0., 0., 0., 1., 0., 0., 0., 0., 0.]], dtype=float32)"
            ]
          },
          "metadata": {
            "tags": []
          },
          "execution_count": 10
        }
      ]
    },
    {
      "cell_type": "code",
      "metadata": {
        "id": "osKqT73Q9JJB",
        "colab_type": "code",
        "outputId": "d3a11357-4abd-4edd-d790-5be14c7f6b4e",
        "colab": {
          "base_uri": "https://localhost:8080/",
          "height": 343
        }
      },
      "source": [
        "#model \n",
        "from keras.layers import Activation\n",
        "model = Sequential()\n",
        "\n",
        " \n",
        "model.add(Convolution2D(16, 3, 3, activation='relu', input_shape=(28,28,1)))# RF=3\n",
        "model.add(Dropout(.2))\n",
        "model.add(Convolution2D(32, 3,3, activation='relu'))#RF =5\n",
        "model.add(MaxPooling2D((2,2)))#RF=10\n",
        "model.add(Dropout(.2))\n",
        "model.add(Convolution2D(10, 1, activation='relu'))#RF=10\n",
        "model.add(Dropout(.2))\n",
        "model.add(Convolution2D(10, 12))\n",
        "model.add(Flatten())\n",
        "model.add(Activation('softmax'))"
      ],
      "execution_count": 11,
      "outputs": [
        {
          "output_type": "stream",
          "text": [
            "WARNING: Logging before flag parsing goes to stderr.\n",
            "W0822 09:54:00.169339 139670478296960 deprecation_wrapper.py:119] From /usr/local/lib/python3.6/dist-packages/keras/backend/tensorflow_backend.py:74: The name tf.get_default_graph is deprecated. Please use tf.compat.v1.get_default_graph instead.\n",
            "\n",
            "/usr/local/lib/python3.6/dist-packages/ipykernel_launcher.py:5: UserWarning: Update your `Conv2D` call to the Keras 2 API: `Conv2D(16, (3, 3), activation=\"relu\", input_shape=(28, 28, 1...)`\n",
            "  \"\"\"\n",
            "W0822 09:54:00.187146 139670478296960 deprecation_wrapper.py:119] From /usr/local/lib/python3.6/dist-packages/keras/backend/tensorflow_backend.py:517: The name tf.placeholder is deprecated. Please use tf.compat.v1.placeholder instead.\n",
            "\n",
            "W0822 09:54:00.189862 139670478296960 deprecation_wrapper.py:119] From /usr/local/lib/python3.6/dist-packages/keras/backend/tensorflow_backend.py:4138: The name tf.random_uniform is deprecated. Please use tf.random.uniform instead.\n",
            "\n",
            "W0822 09:54:00.205700 139670478296960 deprecation_wrapper.py:119] From /usr/local/lib/python3.6/dist-packages/keras/backend/tensorflow_backend.py:133: The name tf.placeholder_with_default is deprecated. Please use tf.compat.v1.placeholder_with_default instead.\n",
            "\n",
            "W0822 09:54:00.215214 139670478296960 deprecation.py:506] From /usr/local/lib/python3.6/dist-packages/keras/backend/tensorflow_backend.py:3445: calling dropout (from tensorflow.python.ops.nn_ops) with keep_prob is deprecated and will be removed in a future version.\n",
            "Instructions for updating:\n",
            "Please use `rate` instead of `keep_prob`. Rate should be set to `rate = 1 - keep_prob`.\n",
            "/usr/local/lib/python3.6/dist-packages/ipykernel_launcher.py:7: UserWarning: Update your `Conv2D` call to the Keras 2 API: `Conv2D(32, (3, 3), activation=\"relu\")`\n",
            "  import sys\n",
            "W0822 09:54:00.242396 139670478296960 deprecation_wrapper.py:119] From /usr/local/lib/python3.6/dist-packages/keras/backend/tensorflow_backend.py:3976: The name tf.nn.max_pool is deprecated. Please use tf.nn.max_pool2d instead.\n",
            "\n"
          ],
          "name": "stderr"
        }
      ]
    },
    {
      "cell_type": "code",
      "metadata": {
        "id": "TzdAYg1k9K7Z",
        "colab_type": "code",
        "outputId": "d7a728c4-65ad-4de9-c3e9-2979bb407028",
        "colab": {
          "base_uri": "https://localhost:8080/",
          "height": 476
        }
      },
      "source": [
        "model.summary()"
      ],
      "execution_count": 12,
      "outputs": [
        {
          "output_type": "stream",
          "text": [
            "_________________________________________________________________\n",
            "Layer (type)                 Output Shape              Param #   \n",
            "=================================================================\n",
            "conv2d_1 (Conv2D)            (None, 26, 26, 16)        160       \n",
            "_________________________________________________________________\n",
            "dropout_1 (Dropout)          (None, 26, 26, 16)        0         \n",
            "_________________________________________________________________\n",
            "conv2d_2 (Conv2D)            (None, 24, 24, 32)        4640      \n",
            "_________________________________________________________________\n",
            "max_pooling2d_1 (MaxPooling2 (None, 12, 12, 32)        0         \n",
            "_________________________________________________________________\n",
            "dropout_2 (Dropout)          (None, 12, 12, 32)        0         \n",
            "_________________________________________________________________\n",
            "conv2d_3 (Conv2D)            (None, 12, 12, 10)        330       \n",
            "_________________________________________________________________\n",
            "dropout_3 (Dropout)          (None, 12, 12, 10)        0         \n",
            "_________________________________________________________________\n",
            "conv2d_4 (Conv2D)            (None, 1, 1, 10)          14410     \n",
            "_________________________________________________________________\n",
            "flatten_1 (Flatten)          (None, 10)                0         \n",
            "_________________________________________________________________\n",
            "activation_1 (Activation)    (None, 10)                0         \n",
            "=================================================================\n",
            "Total params: 19,540\n",
            "Trainable params: 19,540\n",
            "Non-trainable params: 0\n",
            "_________________________________________________________________\n"
          ],
          "name": "stdout"
        }
      ]
    },
    {
      "cell_type": "code",
      "metadata": {
        "id": "Zp6SuGrL9M3h",
        "colab_type": "code",
        "colab": {
          "base_uri": "https://localhost:8080/",
          "height": 105
        },
        "outputId": "e0a24b5f-222d-4aa4-bbd7-87b8d0d9900a"
      },
      "source": [
        "#compile the model\n",
        "model.compile(loss='categorical_crossentropy',\n",
        "             optimizer='adam',\n",
        "             metrics=['accuracy'])"
      ],
      "execution_count": 13,
      "outputs": [
        {
          "output_type": "stream",
          "text": [
            "W0822 09:54:01.713146 139670478296960 deprecation_wrapper.py:119] From /usr/local/lib/python3.6/dist-packages/keras/optimizers.py:790: The name tf.train.Optimizer is deprecated. Please use tf.compat.v1.train.Optimizer instead.\n",
            "\n",
            "W0822 09:54:01.742217 139670478296960 deprecation_wrapper.py:119] From /usr/local/lib/python3.6/dist-packages/keras/backend/tensorflow_backend.py:3295: The name tf.log is deprecated. Please use tf.math.log instead.\n",
            "\n"
          ],
          "name": "stderr"
        }
      ]
    },
    {
      "cell_type": "code",
      "metadata": {
        "id": "4xWoKhPY9Of5",
        "colab_type": "code",
        "outputId": "e469e919-4ebf-448b-f076-31452399ff5d",
        "colab": {
          "base_uri": "https://localhost:8080/",
          "height": 1000
        }
      },
      "source": [
        "#fit the model\n",
        "history=model.fit(X_train, Y_train, batch_size=1024, nb_epoch=300, verbose=1,validation_split=0.1)"
      ],
      "execution_count": 14,
      "outputs": [
        {
          "output_type": "stream",
          "text": [
            "/usr/local/lib/python3.6/dist-packages/ipykernel_launcher.py:1: UserWarning: The `nb_epoch` argument in `fit` has been renamed `epochs`.\n",
            "  \"\"\"Entry point for launching an IPython kernel.\n",
            "W0822 09:54:03.858180 139670478296960 deprecation.py:323] From /usr/local/lib/python3.6/dist-packages/tensorflow/python/ops/math_grad.py:1250: add_dispatch_support.<locals>.wrapper (from tensorflow.python.ops.array_ops) is deprecated and will be removed in a future version.\n",
            "Instructions for updating:\n",
            "Use tf.where in 2.0, which has the same broadcast rule as np.where\n"
          ],
          "name": "stderr"
        },
        {
          "output_type": "stream",
          "text": [
            "Train on 54000 samples, validate on 6000 samples\n",
            "Epoch 1/300\n",
            "54000/54000 [==============================] - 5s 89us/step - loss: 1.1607 - acc: 0.6605 - val_loss: 0.3063 - val_acc: 0.9095\n",
            "Epoch 2/300\n",
            "54000/54000 [==============================] - 2s 30us/step - loss: 0.3805 - acc: 0.8843 - val_loss: 0.2186 - val_acc: 0.9393\n",
            "Epoch 3/300\n",
            "54000/54000 [==============================] - 2s 30us/step - loss: 0.2848 - acc: 0.9142 - val_loss: 0.1605 - val_acc: 0.9553\n",
            "Epoch 4/300\n",
            "54000/54000 [==============================] - 2s 31us/step - loss: 0.2165 - acc: 0.9342 - val_loss: 0.1247 - val_acc: 0.9677\n",
            "Epoch 5/300\n",
            "54000/54000 [==============================] - 2s 31us/step - loss: 0.1808 - acc: 0.9461 - val_loss: 0.1075 - val_acc: 0.9732\n",
            "Epoch 6/300\n",
            "54000/54000 [==============================] - 2s 31us/step - loss: 0.1503 - acc: 0.9547 - val_loss: 0.0927 - val_acc: 0.9745\n",
            "Epoch 7/300\n",
            "54000/54000 [==============================] - 2s 31us/step - loss: 0.1338 - acc: 0.9591 - val_loss: 0.0816 - val_acc: 0.9780\n",
            "Epoch 8/300\n",
            "54000/54000 [==============================] - 2s 31us/step - loss: 0.1182 - acc: 0.9630 - val_loss: 0.0752 - val_acc: 0.9798\n",
            "Epoch 9/300\n",
            "54000/54000 [==============================] - 2s 31us/step - loss: 0.1081 - acc: 0.9664 - val_loss: 0.0680 - val_acc: 0.9828\n",
            "Epoch 10/300\n",
            "54000/54000 [==============================] - 2s 31us/step - loss: 0.1011 - acc: 0.9698 - val_loss: 0.0636 - val_acc: 0.9833\n",
            "Epoch 11/300\n",
            "54000/54000 [==============================] - 2s 31us/step - loss: 0.0940 - acc: 0.9709 - val_loss: 0.0604 - val_acc: 0.9842\n",
            "Epoch 12/300\n",
            "54000/54000 [==============================] - 2s 31us/step - loss: 0.0899 - acc: 0.9724 - val_loss: 0.0585 - val_acc: 0.9853\n",
            "Epoch 13/300\n",
            "54000/54000 [==============================] - 2s 31us/step - loss: 0.0848 - acc: 0.9737 - val_loss: 0.0578 - val_acc: 0.9847\n",
            "Epoch 14/300\n",
            "54000/54000 [==============================] - 2s 31us/step - loss: 0.0791 - acc: 0.9750 - val_loss: 0.0550 - val_acc: 0.9850\n",
            "Epoch 15/300\n",
            "54000/54000 [==============================] - 2s 31us/step - loss: 0.0779 - acc: 0.9759 - val_loss: 0.0514 - val_acc: 0.9860\n",
            "Epoch 16/300\n",
            "54000/54000 [==============================] - 2s 31us/step - loss: 0.0754 - acc: 0.9768 - val_loss: 0.0507 - val_acc: 0.9867\n",
            "Epoch 17/300\n",
            "54000/54000 [==============================] - 2s 31us/step - loss: 0.0720 - acc: 0.9782 - val_loss: 0.0494 - val_acc: 0.9862\n",
            "Epoch 18/300\n",
            "54000/54000 [==============================] - 2s 31us/step - loss: 0.0703 - acc: 0.9779 - val_loss: 0.0489 - val_acc: 0.9868\n",
            "Epoch 19/300\n",
            "54000/54000 [==============================] - 2s 31us/step - loss: 0.0703 - acc: 0.9780 - val_loss: 0.0491 - val_acc: 0.9873\n",
            "Epoch 20/300\n",
            "54000/54000 [==============================] - 2s 31us/step - loss: 0.0667 - acc: 0.9796 - val_loss: 0.0474 - val_acc: 0.9863\n",
            "Epoch 21/300\n",
            "54000/54000 [==============================] - 2s 31us/step - loss: 0.0648 - acc: 0.9803 - val_loss: 0.0471 - val_acc: 0.9875\n",
            "Epoch 22/300\n",
            "54000/54000 [==============================] - 2s 31us/step - loss: 0.0645 - acc: 0.9798 - val_loss: 0.0479 - val_acc: 0.9877\n",
            "Epoch 23/300\n",
            "54000/54000 [==============================] - 2s 31us/step - loss: 0.0611 - acc: 0.9817 - val_loss: 0.0475 - val_acc: 0.9865\n",
            "Epoch 24/300\n",
            "54000/54000 [==============================] - 2s 31us/step - loss: 0.0587 - acc: 0.9810 - val_loss: 0.0457 - val_acc: 0.9883\n",
            "Epoch 25/300\n",
            "54000/54000 [==============================] - 2s 31us/step - loss: 0.0622 - acc: 0.9801 - val_loss: 0.0451 - val_acc: 0.9880\n",
            "Epoch 26/300\n",
            "54000/54000 [==============================] - 2s 31us/step - loss: 0.0586 - acc: 0.9816 - val_loss: 0.0447 - val_acc: 0.9878\n",
            "Epoch 27/300\n",
            "54000/54000 [==============================] - 2s 31us/step - loss: 0.0576 - acc: 0.9817 - val_loss: 0.0439 - val_acc: 0.9878\n",
            "Epoch 28/300\n",
            "54000/54000 [==============================] - 2s 31us/step - loss: 0.0541 - acc: 0.9836 - val_loss: 0.0442 - val_acc: 0.9873\n",
            "Epoch 29/300\n",
            "54000/54000 [==============================] - 2s 31us/step - loss: 0.0540 - acc: 0.9829 - val_loss: 0.0434 - val_acc: 0.9878\n",
            "Epoch 30/300\n",
            "54000/54000 [==============================] - 2s 30us/step - loss: 0.0547 - acc: 0.9831 - val_loss: 0.0441 - val_acc: 0.9873\n",
            "Epoch 31/300\n",
            "54000/54000 [==============================] - 2s 31us/step - loss: 0.0531 - acc: 0.9828 - val_loss: 0.0434 - val_acc: 0.9882\n",
            "Epoch 32/300\n",
            "54000/54000 [==============================] - 2s 31us/step - loss: 0.0515 - acc: 0.9828 - val_loss: 0.0444 - val_acc: 0.9883\n",
            "Epoch 33/300\n",
            "54000/54000 [==============================] - 2s 31us/step - loss: 0.0514 - acc: 0.9837 - val_loss: 0.0456 - val_acc: 0.9873\n",
            "Epoch 34/300\n",
            "54000/54000 [==============================] - 2s 31us/step - loss: 0.0500 - acc: 0.9847 - val_loss: 0.0428 - val_acc: 0.9883\n",
            "Epoch 35/300\n",
            "54000/54000 [==============================] - 2s 31us/step - loss: 0.0497 - acc: 0.9846 - val_loss: 0.0427 - val_acc: 0.9885\n",
            "Epoch 36/300\n",
            "54000/54000 [==============================] - 2s 31us/step - loss: 0.0485 - acc: 0.9851 - val_loss: 0.0413 - val_acc: 0.9885\n",
            "Epoch 37/300\n",
            "54000/54000 [==============================] - 2s 31us/step - loss: 0.0473 - acc: 0.9845 - val_loss: 0.0422 - val_acc: 0.9880\n",
            "Epoch 38/300\n",
            "54000/54000 [==============================] - 2s 31us/step - loss: 0.0473 - acc: 0.9851 - val_loss: 0.0418 - val_acc: 0.9877\n",
            "Epoch 39/300\n",
            "54000/54000 [==============================] - 2s 32us/step - loss: 0.0470 - acc: 0.9854 - val_loss: 0.0419 - val_acc: 0.9883\n",
            "Epoch 40/300\n",
            "54000/54000 [==============================] - 2s 31us/step - loss: 0.0456 - acc: 0.9845 - val_loss: 0.0415 - val_acc: 0.9880\n",
            "Epoch 41/300\n",
            "54000/54000 [==============================] - 2s 31us/step - loss: 0.0441 - acc: 0.9859 - val_loss: 0.0393 - val_acc: 0.9888\n",
            "Epoch 42/300\n",
            "54000/54000 [==============================] - 2s 31us/step - loss: 0.0454 - acc: 0.9853 - val_loss: 0.0398 - val_acc: 0.9878\n",
            "Epoch 43/300\n",
            "54000/54000 [==============================] - 2s 31us/step - loss: 0.0450 - acc: 0.9854 - val_loss: 0.0385 - val_acc: 0.9885\n",
            "Epoch 44/300\n",
            "54000/54000 [==============================] - 2s 31us/step - loss: 0.0426 - acc: 0.9867 - val_loss: 0.0401 - val_acc: 0.9877\n",
            "Epoch 45/300\n",
            "54000/54000 [==============================] - 2s 31us/step - loss: 0.0427 - acc: 0.9861 - val_loss: 0.0393 - val_acc: 0.9882\n",
            "Epoch 46/300\n",
            "54000/54000 [==============================] - 2s 32us/step - loss: 0.0428 - acc: 0.9860 - val_loss: 0.0409 - val_acc: 0.9893\n",
            "Epoch 47/300\n",
            "54000/54000 [==============================] - 2s 31us/step - loss: 0.0442 - acc: 0.9854 - val_loss: 0.0383 - val_acc: 0.9893\n",
            "Epoch 48/300\n",
            "54000/54000 [==============================] - 2s 31us/step - loss: 0.0430 - acc: 0.9858 - val_loss: 0.0386 - val_acc: 0.9892\n",
            "Epoch 49/300\n",
            "54000/54000 [==============================] - 2s 31us/step - loss: 0.0416 - acc: 0.9871 - val_loss: 0.0399 - val_acc: 0.9882\n",
            "Epoch 50/300\n",
            "54000/54000 [==============================] - 2s 31us/step - loss: 0.0419 - acc: 0.9862 - val_loss: 0.0402 - val_acc: 0.9885\n",
            "Epoch 51/300\n",
            "54000/54000 [==============================] - 2s 31us/step - loss: 0.0404 - acc: 0.9870 - val_loss: 0.0399 - val_acc: 0.9875\n",
            "Epoch 52/300\n",
            "54000/54000 [==============================] - 2s 31us/step - loss: 0.0406 - acc: 0.9869 - val_loss: 0.0386 - val_acc: 0.9887\n",
            "Epoch 53/300\n",
            "54000/54000 [==============================] - 2s 31us/step - loss: 0.0405 - acc: 0.9870 - val_loss: 0.0417 - val_acc: 0.9888\n",
            "Epoch 54/300\n",
            "54000/54000 [==============================] - 2s 32us/step - loss: 0.0385 - acc: 0.9877 - val_loss: 0.0417 - val_acc: 0.9882\n",
            "Epoch 55/300\n",
            "54000/54000 [==============================] - 2s 31us/step - loss: 0.0400 - acc: 0.9871 - val_loss: 0.0404 - val_acc: 0.9895\n",
            "Epoch 56/300\n",
            "54000/54000 [==============================] - 2s 31us/step - loss: 0.0403 - acc: 0.9872 - val_loss: 0.0401 - val_acc: 0.9887\n",
            "Epoch 57/300\n",
            "54000/54000 [==============================] - 2s 31us/step - loss: 0.0391 - acc: 0.9872 - val_loss: 0.0395 - val_acc: 0.9895\n",
            "Epoch 58/300\n",
            "54000/54000 [==============================] - 2s 31us/step - loss: 0.0399 - acc: 0.9874 - val_loss: 0.0405 - val_acc: 0.9888\n",
            "Epoch 59/300\n",
            "54000/54000 [==============================] - 2s 31us/step - loss: 0.0386 - acc: 0.9875 - val_loss: 0.0397 - val_acc: 0.9888\n",
            "Epoch 60/300\n",
            "54000/54000 [==============================] - 2s 31us/step - loss: 0.0372 - acc: 0.9877 - val_loss: 0.0388 - val_acc: 0.9885\n",
            "Epoch 61/300\n",
            "54000/54000 [==============================] - 2s 31us/step - loss: 0.0383 - acc: 0.9873 - val_loss: 0.0379 - val_acc: 0.9892\n",
            "Epoch 62/300\n",
            "54000/54000 [==============================] - 2s 31us/step - loss: 0.0382 - acc: 0.9877 - val_loss: 0.0392 - val_acc: 0.9892\n",
            "Epoch 63/300\n",
            "54000/54000 [==============================] - 2s 31us/step - loss: 0.0361 - acc: 0.9881 - val_loss: 0.0399 - val_acc: 0.9887\n",
            "Epoch 64/300\n",
            "54000/54000 [==============================] - 2s 31us/step - loss: 0.0376 - acc: 0.9875 - val_loss: 0.0411 - val_acc: 0.9880\n",
            "Epoch 65/300\n",
            "54000/54000 [==============================] - 2s 31us/step - loss: 0.0350 - acc: 0.9884 - val_loss: 0.0381 - val_acc: 0.9898\n",
            "Epoch 66/300\n",
            "54000/54000 [==============================] - 2s 31us/step - loss: 0.0350 - acc: 0.9887 - val_loss: 0.0411 - val_acc: 0.9887\n",
            "Epoch 67/300\n",
            "54000/54000 [==============================] - 2s 32us/step - loss: 0.0365 - acc: 0.9878 - val_loss: 0.0412 - val_acc: 0.9887\n",
            "Epoch 68/300\n",
            "54000/54000 [==============================] - 2s 31us/step - loss: 0.0359 - acc: 0.9883 - val_loss: 0.0387 - val_acc: 0.9893\n",
            "Epoch 69/300\n",
            "54000/54000 [==============================] - 2s 31us/step - loss: 0.0372 - acc: 0.9873 - val_loss: 0.0405 - val_acc: 0.9885\n",
            "Epoch 70/300\n",
            "54000/54000 [==============================] - 2s 31us/step - loss: 0.0360 - acc: 0.9884 - val_loss: 0.0386 - val_acc: 0.9898\n",
            "Epoch 71/300\n",
            "54000/54000 [==============================] - 2s 31us/step - loss: 0.0347 - acc: 0.9890 - val_loss: 0.0398 - val_acc: 0.9882\n",
            "Epoch 72/300\n",
            "54000/54000 [==============================] - 2s 31us/step - loss: 0.0338 - acc: 0.9886 - val_loss: 0.0415 - val_acc: 0.9883\n",
            "Epoch 73/300\n",
            "54000/54000 [==============================] - 2s 31us/step - loss: 0.0352 - acc: 0.9887 - val_loss: 0.0406 - val_acc: 0.9892\n",
            "Epoch 74/300\n",
            "54000/54000 [==============================] - 2s 31us/step - loss: 0.0345 - acc: 0.9883 - val_loss: 0.0407 - val_acc: 0.9888\n",
            "Epoch 75/300\n",
            "54000/54000 [==============================] - 2s 31us/step - loss: 0.0339 - acc: 0.9887 - val_loss: 0.0390 - val_acc: 0.9898\n",
            "Epoch 76/300\n",
            "54000/54000 [==============================] - 2s 31us/step - loss: 0.0336 - acc: 0.9887 - val_loss: 0.0398 - val_acc: 0.9892\n",
            "Epoch 77/300\n",
            "54000/54000 [==============================] - 2s 31us/step - loss: 0.0328 - acc: 0.9895 - val_loss: 0.0386 - val_acc: 0.9892\n",
            "Epoch 78/300\n",
            "54000/54000 [==============================] - 2s 31us/step - loss: 0.0337 - acc: 0.9890 - val_loss: 0.0385 - val_acc: 0.9890\n",
            "Epoch 79/300\n",
            "54000/54000 [==============================] - 2s 32us/step - loss: 0.0338 - acc: 0.9890 - val_loss: 0.0392 - val_acc: 0.9895\n",
            "Epoch 80/300\n",
            "54000/54000 [==============================] - 2s 31us/step - loss: 0.0327 - acc: 0.9893 - val_loss: 0.0397 - val_acc: 0.9885\n",
            "Epoch 81/300\n",
            "54000/54000 [==============================] - 2s 31us/step - loss: 0.0323 - acc: 0.9893 - val_loss: 0.0382 - val_acc: 0.9902\n",
            "Epoch 82/300\n",
            "54000/54000 [==============================] - 2s 31us/step - loss: 0.0317 - acc: 0.9894 - val_loss: 0.0378 - val_acc: 0.9900\n",
            "Epoch 83/300\n",
            "54000/54000 [==============================] - 2s 31us/step - loss: 0.0329 - acc: 0.9889 - val_loss: 0.0399 - val_acc: 0.9890\n",
            "Epoch 84/300\n",
            "54000/54000 [==============================] - 2s 31us/step - loss: 0.0311 - acc: 0.9893 - val_loss: 0.0387 - val_acc: 0.9883\n",
            "Epoch 85/300\n",
            "54000/54000 [==============================] - 2s 32us/step - loss: 0.0308 - acc: 0.9901 - val_loss: 0.0381 - val_acc: 0.9900\n",
            "Epoch 86/300\n",
            "54000/54000 [==============================] - 2s 32us/step - loss: 0.0321 - acc: 0.9887 - val_loss: 0.0393 - val_acc: 0.9893\n",
            "Epoch 87/300\n",
            "54000/54000 [==============================] - 2s 32us/step - loss: 0.0313 - acc: 0.9895 - val_loss: 0.0385 - val_acc: 0.9903\n",
            "Epoch 88/300\n",
            "54000/54000 [==============================] - 2s 32us/step - loss: 0.0304 - acc: 0.9891 - val_loss: 0.0376 - val_acc: 0.9902\n",
            "Epoch 89/300\n",
            "54000/54000 [==============================] - 2s 32us/step - loss: 0.0326 - acc: 0.9888 - val_loss: 0.0383 - val_acc: 0.9900\n",
            "Epoch 90/300\n",
            "54000/54000 [==============================] - 2s 32us/step - loss: 0.0308 - acc: 0.9895 - val_loss: 0.0383 - val_acc: 0.9898\n",
            "Epoch 91/300\n",
            "54000/54000 [==============================] - 2s 32us/step - loss: 0.0302 - acc: 0.9903 - val_loss: 0.0374 - val_acc: 0.9903\n",
            "Epoch 92/300\n",
            "54000/54000 [==============================] - 2s 32us/step - loss: 0.0313 - acc: 0.9895 - val_loss: 0.0383 - val_acc: 0.9895\n",
            "Epoch 93/300\n",
            "54000/54000 [==============================] - 2s 32us/step - loss: 0.0314 - acc: 0.9890 - val_loss: 0.0391 - val_acc: 0.9893\n",
            "Epoch 94/300\n",
            "54000/54000 [==============================] - 2s 31us/step - loss: 0.0311 - acc: 0.9896 - val_loss: 0.0406 - val_acc: 0.9893\n",
            "Epoch 95/300\n",
            "54000/54000 [==============================] - 2s 31us/step - loss: 0.0309 - acc: 0.9901 - val_loss: 0.0374 - val_acc: 0.9907\n",
            "Epoch 96/300\n",
            "54000/54000 [==============================] - 2s 31us/step - loss: 0.0300 - acc: 0.9898 - val_loss: 0.0401 - val_acc: 0.9888\n",
            "Epoch 97/300\n",
            "54000/54000 [==============================] - 2s 32us/step - loss: 0.0298 - acc: 0.9898 - val_loss: 0.0367 - val_acc: 0.9892\n",
            "Epoch 98/300\n",
            "54000/54000 [==============================] - 2s 32us/step - loss: 0.0288 - acc: 0.9904 - val_loss: 0.0379 - val_acc: 0.9902\n",
            "Epoch 99/300\n",
            "54000/54000 [==============================] - 2s 32us/step - loss: 0.0292 - acc: 0.9902 - val_loss: 0.0375 - val_acc: 0.9897\n",
            "Epoch 100/300\n",
            "54000/54000 [==============================] - 2s 32us/step - loss: 0.0299 - acc: 0.9898 - val_loss: 0.0433 - val_acc: 0.9882\n",
            "Epoch 101/300\n",
            "54000/54000 [==============================] - 2s 32us/step - loss: 0.0289 - acc: 0.9903 - val_loss: 0.0370 - val_acc: 0.9900\n",
            "Epoch 102/300\n",
            "54000/54000 [==============================] - 2s 32us/step - loss: 0.0292 - acc: 0.9902 - val_loss: 0.0390 - val_acc: 0.9892\n",
            "Epoch 103/300\n",
            "54000/54000 [==============================] - 2s 32us/step - loss: 0.0297 - acc: 0.9898 - val_loss: 0.0398 - val_acc: 0.9888\n",
            "Epoch 104/300\n",
            "54000/54000 [==============================] - 2s 32us/step - loss: 0.0279 - acc: 0.9907 - val_loss: 0.0379 - val_acc: 0.9898\n",
            "Epoch 105/300\n",
            "54000/54000 [==============================] - 2s 32us/step - loss: 0.0270 - acc: 0.9910 - val_loss: 0.0386 - val_acc: 0.9895\n",
            "Epoch 106/300\n",
            "54000/54000 [==============================] - 2s 31us/step - loss: 0.0286 - acc: 0.9905 - val_loss: 0.0359 - val_acc: 0.9898\n",
            "Epoch 107/300\n",
            "54000/54000 [==============================] - 2s 31us/step - loss: 0.0289 - acc: 0.9902 - val_loss: 0.0381 - val_acc: 0.9895\n",
            "Epoch 108/300\n",
            "54000/54000 [==============================] - 2s 32us/step - loss: 0.0294 - acc: 0.9899 - val_loss: 0.0398 - val_acc: 0.9893\n",
            "Epoch 109/300\n",
            "54000/54000 [==============================] - 2s 32us/step - loss: 0.0289 - acc: 0.9904 - val_loss: 0.0380 - val_acc: 0.9903\n",
            "Epoch 110/300\n",
            "54000/54000 [==============================] - 2s 32us/step - loss: 0.0279 - acc: 0.9906 - val_loss: 0.0379 - val_acc: 0.9902\n",
            "Epoch 111/300\n",
            "54000/54000 [==============================] - 2s 32us/step - loss: 0.0278 - acc: 0.9906 - val_loss: 0.0367 - val_acc: 0.9897\n",
            "Epoch 112/300\n",
            "54000/54000 [==============================] - 2s 32us/step - loss: 0.0267 - acc: 0.9907 - val_loss: 0.0379 - val_acc: 0.9902\n",
            "Epoch 113/300\n",
            "54000/54000 [==============================] - 2s 32us/step - loss: 0.0270 - acc: 0.9908 - val_loss: 0.0383 - val_acc: 0.9890\n",
            "Epoch 114/300\n",
            "54000/54000 [==============================] - 2s 32us/step - loss: 0.0271 - acc: 0.9906 - val_loss: 0.0383 - val_acc: 0.9890\n",
            "Epoch 115/300\n",
            "54000/54000 [==============================] - 2s 32us/step - loss: 0.0281 - acc: 0.9905 - val_loss: 0.0383 - val_acc: 0.9897\n",
            "Epoch 116/300\n",
            "54000/54000 [==============================] - 2s 32us/step - loss: 0.0261 - acc: 0.9911 - val_loss: 0.0394 - val_acc: 0.9893\n",
            "Epoch 117/300\n",
            "54000/54000 [==============================] - 2s 32us/step - loss: 0.0254 - acc: 0.9915 - val_loss: 0.0381 - val_acc: 0.9897\n",
            "Epoch 118/300\n",
            "54000/54000 [==============================] - 2s 32us/step - loss: 0.0278 - acc: 0.9907 - val_loss: 0.0373 - val_acc: 0.9910\n",
            "Epoch 119/300\n",
            "54000/54000 [==============================] - 2s 32us/step - loss: 0.0268 - acc: 0.9907 - val_loss: 0.0376 - val_acc: 0.9895\n",
            "Epoch 120/300\n",
            "54000/54000 [==============================] - 2s 32us/step - loss: 0.0263 - acc: 0.9911 - val_loss: 0.0370 - val_acc: 0.9897\n",
            "Epoch 121/300\n",
            "54000/54000 [==============================] - 2s 32us/step - loss: 0.0255 - acc: 0.9915 - val_loss: 0.0364 - val_acc: 0.9908\n",
            "Epoch 122/300\n",
            "54000/54000 [==============================] - 2s 32us/step - loss: 0.0255 - acc: 0.9911 - val_loss: 0.0404 - val_acc: 0.9893\n",
            "Epoch 123/300\n",
            "54000/54000 [==============================] - 2s 32us/step - loss: 0.0274 - acc: 0.9904 - val_loss: 0.0378 - val_acc: 0.9897\n",
            "Epoch 124/300\n",
            "54000/54000 [==============================] - 2s 32us/step - loss: 0.0266 - acc: 0.9908 - val_loss: 0.0377 - val_acc: 0.9900\n",
            "Epoch 125/300\n",
            "54000/54000 [==============================] - 2s 32us/step - loss: 0.0254 - acc: 0.9913 - val_loss: 0.0378 - val_acc: 0.9903\n",
            "Epoch 126/300\n",
            "54000/54000 [==============================] - 2s 32us/step - loss: 0.0274 - acc: 0.9900 - val_loss: 0.0390 - val_acc: 0.9892\n",
            "Epoch 127/300\n",
            "54000/54000 [==============================] - 2s 32us/step - loss: 0.0258 - acc: 0.9913 - val_loss: 0.0356 - val_acc: 0.9902\n",
            "Epoch 128/300\n",
            "54000/54000 [==============================] - 2s 32us/step - loss: 0.0269 - acc: 0.9912 - val_loss: 0.0370 - val_acc: 0.9905\n",
            "Epoch 129/300\n",
            "54000/54000 [==============================] - 2s 32us/step - loss: 0.0260 - acc: 0.9912 - val_loss: 0.0388 - val_acc: 0.9902\n",
            "Epoch 130/300\n",
            "54000/54000 [==============================] - 2s 32us/step - loss: 0.0269 - acc: 0.9911 - val_loss: 0.0373 - val_acc: 0.9907\n",
            "Epoch 131/300\n",
            "54000/54000 [==============================] - 2s 32us/step - loss: 0.0252 - acc: 0.9917 - val_loss: 0.0379 - val_acc: 0.9893\n",
            "Epoch 132/300\n",
            "54000/54000 [==============================] - 2s 32us/step - loss: 0.0255 - acc: 0.9909 - val_loss: 0.0374 - val_acc: 0.9898\n",
            "Epoch 133/300\n",
            "54000/54000 [==============================] - 2s 32us/step - loss: 0.0257 - acc: 0.9909 - val_loss: 0.0384 - val_acc: 0.9900\n",
            "Epoch 134/300\n",
            "54000/54000 [==============================] - 2s 32us/step - loss: 0.0253 - acc: 0.9910 - val_loss: 0.0376 - val_acc: 0.9888\n",
            "Epoch 135/300\n",
            "54000/54000 [==============================] - 2s 32us/step - loss: 0.0249 - acc: 0.9916 - val_loss: 0.0366 - val_acc: 0.9900\n",
            "Epoch 136/300\n",
            "54000/54000 [==============================] - 2s 32us/step - loss: 0.0240 - acc: 0.9919 - val_loss: 0.0378 - val_acc: 0.9903\n",
            "Epoch 137/300\n",
            "54000/54000 [==============================] - 2s 32us/step - loss: 0.0245 - acc: 0.9912 - val_loss: 0.0373 - val_acc: 0.9895\n",
            "Epoch 138/300\n",
            "54000/54000 [==============================] - 2s 32us/step - loss: 0.0244 - acc: 0.9918 - val_loss: 0.0377 - val_acc: 0.9905\n",
            "Epoch 139/300\n",
            "54000/54000 [==============================] - 2s 32us/step - loss: 0.0247 - acc: 0.9911 - val_loss: 0.0371 - val_acc: 0.9902\n",
            "Epoch 140/300\n",
            "54000/54000 [==============================] - 2s 32us/step - loss: 0.0256 - acc: 0.9910 - val_loss: 0.0360 - val_acc: 0.9910\n",
            "Epoch 141/300\n",
            "54000/54000 [==============================] - 2s 32us/step - loss: 0.0234 - acc: 0.9916 - val_loss: 0.0385 - val_acc: 0.9902\n",
            "Epoch 142/300\n",
            "54000/54000 [==============================] - 2s 31us/step - loss: 0.0250 - acc: 0.9916 - val_loss: 0.0378 - val_acc: 0.9903\n",
            "Epoch 143/300\n",
            "54000/54000 [==============================] - 2s 32us/step - loss: 0.0250 - acc: 0.9911 - val_loss: 0.0377 - val_acc: 0.9907\n",
            "Epoch 144/300\n",
            "54000/54000 [==============================] - 2s 32us/step - loss: 0.0252 - acc: 0.9912 - val_loss: 0.0381 - val_acc: 0.9897\n",
            "Epoch 145/300\n",
            "54000/54000 [==============================] - 2s 32us/step - loss: 0.0232 - acc: 0.9922 - val_loss: 0.0373 - val_acc: 0.9900\n",
            "Epoch 146/300\n",
            "54000/54000 [==============================] - 2s 32us/step - loss: 0.0239 - acc: 0.9921 - val_loss: 0.0378 - val_acc: 0.9910\n",
            "Epoch 147/300\n",
            "54000/54000 [==============================] - 2s 32us/step - loss: 0.0235 - acc: 0.9923 - val_loss: 0.0397 - val_acc: 0.9897\n",
            "Epoch 148/300\n",
            "54000/54000 [==============================] - 2s 32us/step - loss: 0.0245 - acc: 0.9915 - val_loss: 0.0387 - val_acc: 0.9893\n",
            "Epoch 149/300\n",
            "54000/54000 [==============================] - 2s 32us/step - loss: 0.0237 - acc: 0.9915 - val_loss: 0.0380 - val_acc: 0.9895\n",
            "Epoch 150/300\n",
            "54000/54000 [==============================] - 2s 32us/step - loss: 0.0222 - acc: 0.9921 - val_loss: 0.0368 - val_acc: 0.9910\n",
            "Epoch 151/300\n",
            "54000/54000 [==============================] - 2s 32us/step - loss: 0.0244 - acc: 0.9918 - val_loss: 0.0354 - val_acc: 0.9912\n",
            "Epoch 152/300\n",
            "54000/54000 [==============================] - 2s 32us/step - loss: 0.0239 - acc: 0.9913 - val_loss: 0.0352 - val_acc: 0.9905\n",
            "Epoch 153/300\n",
            "54000/54000 [==============================] - 2s 33us/step - loss: 0.0243 - acc: 0.9917 - val_loss: 0.0370 - val_acc: 0.9907\n",
            "Epoch 154/300\n",
            "54000/54000 [==============================] - 2s 32us/step - loss: 0.0243 - acc: 0.9916 - val_loss: 0.0389 - val_acc: 0.9898\n",
            "Epoch 155/300\n",
            "54000/54000 [==============================] - 2s 32us/step - loss: 0.0246 - acc: 0.9914 - val_loss: 0.0375 - val_acc: 0.9900\n",
            "Epoch 156/300\n",
            "54000/54000 [==============================] - 2s 32us/step - loss: 0.0227 - acc: 0.9923 - val_loss: 0.0367 - val_acc: 0.9908\n",
            "Epoch 157/300\n",
            "54000/54000 [==============================] - 2s 32us/step - loss: 0.0230 - acc: 0.9917 - val_loss: 0.0371 - val_acc: 0.9898\n",
            "Epoch 158/300\n",
            "54000/54000 [==============================] - 2s 32us/step - loss: 0.0234 - acc: 0.9920 - val_loss: 0.0384 - val_acc: 0.9895\n",
            "Epoch 159/300\n",
            "54000/54000 [==============================] - 2s 32us/step - loss: 0.0243 - acc: 0.9921 - val_loss: 0.0363 - val_acc: 0.9902\n",
            "Epoch 160/300\n",
            "54000/54000 [==============================] - 2s 32us/step - loss: 0.0219 - acc: 0.9925 - val_loss: 0.0390 - val_acc: 0.9898\n",
            "Epoch 161/300\n",
            "54000/54000 [==============================] - 2s 32us/step - loss: 0.0238 - acc: 0.9919 - val_loss: 0.0374 - val_acc: 0.9905\n",
            "Epoch 162/300\n",
            "54000/54000 [==============================] - 2s 32us/step - loss: 0.0234 - acc: 0.9919 - val_loss: 0.0364 - val_acc: 0.9910\n",
            "Epoch 163/300\n",
            "54000/54000 [==============================] - 2s 32us/step - loss: 0.0234 - acc: 0.9922 - val_loss: 0.0377 - val_acc: 0.9903\n",
            "Epoch 164/300\n",
            "54000/54000 [==============================] - 2s 31us/step - loss: 0.0236 - acc: 0.9919 - val_loss: 0.0356 - val_acc: 0.9903\n",
            "Epoch 165/300\n",
            "54000/54000 [==============================] - 2s 32us/step - loss: 0.0221 - acc: 0.9926 - val_loss: 0.0362 - val_acc: 0.9907\n",
            "Epoch 166/300\n",
            "54000/54000 [==============================] - 2s 32us/step - loss: 0.0231 - acc: 0.9919 - val_loss: 0.0368 - val_acc: 0.9912\n",
            "Epoch 167/300\n",
            "54000/54000 [==============================] - 2s 31us/step - loss: 0.0224 - acc: 0.9924 - val_loss: 0.0363 - val_acc: 0.9903\n",
            "Epoch 168/300\n",
            "54000/54000 [==============================] - 2s 32us/step - loss: 0.0228 - acc: 0.9925 - val_loss: 0.0368 - val_acc: 0.9912\n",
            "Epoch 169/300\n",
            "54000/54000 [==============================] - 2s 32us/step - loss: 0.0228 - acc: 0.9922 - val_loss: 0.0385 - val_acc: 0.9898\n",
            "Epoch 170/300\n",
            "54000/54000 [==============================] - 2s 32us/step - loss: 0.0222 - acc: 0.9920 - val_loss: 0.0373 - val_acc: 0.9897\n",
            "Epoch 171/300\n",
            "54000/54000 [==============================] - 2s 32us/step - loss: 0.0213 - acc: 0.9925 - val_loss: 0.0366 - val_acc: 0.9898\n",
            "Epoch 172/300\n",
            "54000/54000 [==============================] - 2s 32us/step - loss: 0.0213 - acc: 0.9925 - val_loss: 0.0370 - val_acc: 0.9902\n",
            "Epoch 173/300\n",
            "54000/54000 [==============================] - 2s 32us/step - loss: 0.0223 - acc: 0.9922 - val_loss: 0.0381 - val_acc: 0.9893\n",
            "Epoch 174/300\n",
            "54000/54000 [==============================] - 2s 32us/step - loss: 0.0221 - acc: 0.9923 - val_loss: 0.0379 - val_acc: 0.9905\n",
            "Epoch 175/300\n",
            "54000/54000 [==============================] - 2s 32us/step - loss: 0.0224 - acc: 0.9922 - val_loss: 0.0375 - val_acc: 0.9905\n",
            "Epoch 176/300\n",
            "54000/54000 [==============================] - 2s 32us/step - loss: 0.0214 - acc: 0.9923 - val_loss: 0.0367 - val_acc: 0.9903\n",
            "Epoch 177/300\n",
            "54000/54000 [==============================] - 2s 32us/step - loss: 0.0223 - acc: 0.9927 - val_loss: 0.0370 - val_acc: 0.9907\n",
            "Epoch 178/300\n",
            "54000/54000 [==============================] - 2s 32us/step - loss: 0.0218 - acc: 0.9926 - val_loss: 0.0373 - val_acc: 0.9903\n",
            "Epoch 179/300\n",
            "54000/54000 [==============================] - 2s 32us/step - loss: 0.0225 - acc: 0.9921 - val_loss: 0.0371 - val_acc: 0.9912\n",
            "Epoch 180/300\n",
            "54000/54000 [==============================] - 2s 32us/step - loss: 0.0219 - acc: 0.9924 - val_loss: 0.0367 - val_acc: 0.9905\n",
            "Epoch 181/300\n",
            "54000/54000 [==============================] - 2s 32us/step - loss: 0.0202 - acc: 0.9929 - val_loss: 0.0384 - val_acc: 0.9900\n",
            "Epoch 182/300\n",
            "54000/54000 [==============================] - 2s 32us/step - loss: 0.0217 - acc: 0.9921 - val_loss: 0.0386 - val_acc: 0.9900\n",
            "Epoch 183/300\n",
            "54000/54000 [==============================] - 2s 32us/step - loss: 0.0214 - acc: 0.9927 - val_loss: 0.0371 - val_acc: 0.9900\n",
            "Epoch 184/300\n",
            "54000/54000 [==============================] - 2s 32us/step - loss: 0.0234 - acc: 0.9919 - val_loss: 0.0403 - val_acc: 0.9905\n",
            "Epoch 185/300\n",
            "54000/54000 [==============================] - 2s 32us/step - loss: 0.0217 - acc: 0.9932 - val_loss: 0.0376 - val_acc: 0.9908\n",
            "Epoch 186/300\n",
            "54000/54000 [==============================] - 2s 32us/step - loss: 0.0227 - acc: 0.9923 - val_loss: 0.0388 - val_acc: 0.9898\n",
            "Epoch 187/300\n",
            "54000/54000 [==============================] - 2s 32us/step - loss: 0.0212 - acc: 0.9925 - val_loss: 0.0373 - val_acc: 0.9898\n",
            "Epoch 188/300\n",
            "54000/54000 [==============================] - 2s 32us/step - loss: 0.0214 - acc: 0.9927 - val_loss: 0.0367 - val_acc: 0.9902\n",
            "Epoch 189/300\n",
            "54000/54000 [==============================] - 2s 32us/step - loss: 0.0212 - acc: 0.9924 - val_loss: 0.0391 - val_acc: 0.9893\n",
            "Epoch 190/300\n",
            "54000/54000 [==============================] - 2s 32us/step - loss: 0.0210 - acc: 0.9929 - val_loss: 0.0380 - val_acc: 0.9903\n",
            "Epoch 191/300\n",
            "54000/54000 [==============================] - 2s 32us/step - loss: 0.0213 - acc: 0.9927 - val_loss: 0.0375 - val_acc: 0.9910\n",
            "Epoch 192/300\n",
            "54000/54000 [==============================] - 2s 32us/step - loss: 0.0192 - acc: 0.9934 - val_loss: 0.0390 - val_acc: 0.9910\n",
            "Epoch 193/300\n",
            "54000/54000 [==============================] - 2s 32us/step - loss: 0.0214 - acc: 0.9925 - val_loss: 0.0393 - val_acc: 0.9903\n",
            "Epoch 194/300\n",
            "54000/54000 [==============================] - 2s 32us/step - loss: 0.0217 - acc: 0.9927 - val_loss: 0.0380 - val_acc: 0.9897\n",
            "Epoch 195/300\n",
            "54000/54000 [==============================] - 2s 32us/step - loss: 0.0209 - acc: 0.9927 - val_loss: 0.0375 - val_acc: 0.9900\n",
            "Epoch 196/300\n",
            "54000/54000 [==============================] - 2s 32us/step - loss: 0.0210 - acc: 0.9932 - val_loss: 0.0380 - val_acc: 0.9895\n",
            "Epoch 197/300\n",
            "54000/54000 [==============================] - 2s 32us/step - loss: 0.0214 - acc: 0.9927 - val_loss: 0.0362 - val_acc: 0.9908\n",
            "Epoch 198/300\n",
            "54000/54000 [==============================] - 2s 32us/step - loss: 0.0198 - acc: 0.9931 - val_loss: 0.0392 - val_acc: 0.9905\n",
            "Epoch 199/300\n",
            "54000/54000 [==============================] - 2s 32us/step - loss: 0.0203 - acc: 0.9929 - val_loss: 0.0375 - val_acc: 0.9902\n",
            "Epoch 200/300\n",
            "54000/54000 [==============================] - 2s 32us/step - loss: 0.0214 - acc: 0.9925 - val_loss: 0.0386 - val_acc: 0.9898\n",
            "Epoch 201/300\n",
            "54000/54000 [==============================] - 2s 32us/step - loss: 0.0209 - acc: 0.9924 - val_loss: 0.0376 - val_acc: 0.9898\n",
            "Epoch 202/300\n",
            "54000/54000 [==============================] - 2s 32us/step - loss: 0.0216 - acc: 0.9926 - val_loss: 0.0362 - val_acc: 0.9908\n",
            "Epoch 203/300\n",
            "54000/54000 [==============================] - 2s 32us/step - loss: 0.0192 - acc: 0.9935 - val_loss: 0.0388 - val_acc: 0.9900\n",
            "Epoch 204/300\n",
            "54000/54000 [==============================] - 2s 32us/step - loss: 0.0203 - acc: 0.9931 - val_loss: 0.0385 - val_acc: 0.9903\n",
            "Epoch 205/300\n",
            "54000/54000 [==============================] - 2s 32us/step - loss: 0.0201 - acc: 0.9928 - val_loss: 0.0365 - val_acc: 0.9908\n",
            "Epoch 206/300\n",
            "54000/54000 [==============================] - 2s 32us/step - loss: 0.0204 - acc: 0.9929 - val_loss: 0.0393 - val_acc: 0.9902\n",
            "Epoch 207/300\n",
            "54000/54000 [==============================] - 2s 32us/step - loss: 0.0222 - acc: 0.9929 - val_loss: 0.0369 - val_acc: 0.9910\n",
            "Epoch 208/300\n",
            "54000/54000 [==============================] - 2s 32us/step - loss: 0.0218 - acc: 0.9923 - val_loss: 0.0397 - val_acc: 0.9895\n",
            "Epoch 209/300\n",
            "54000/54000 [==============================] - 2s 32us/step - loss: 0.0196 - acc: 0.9931 - val_loss: 0.0374 - val_acc: 0.9900\n",
            "Epoch 210/300\n",
            "54000/54000 [==============================] - 2s 32us/step - loss: 0.0196 - acc: 0.9934 - val_loss: 0.0375 - val_acc: 0.9903\n",
            "Epoch 211/300\n",
            "54000/54000 [==============================] - 2s 32us/step - loss: 0.0211 - acc: 0.9927 - val_loss: 0.0362 - val_acc: 0.9897\n",
            "Epoch 212/300\n",
            "54000/54000 [==============================] - 2s 32us/step - loss: 0.0194 - acc: 0.9930 - val_loss: 0.0372 - val_acc: 0.9905\n",
            "Epoch 213/300\n",
            "54000/54000 [==============================] - 2s 32us/step - loss: 0.0203 - acc: 0.9931 - val_loss: 0.0376 - val_acc: 0.9898\n",
            "Epoch 214/300\n",
            "54000/54000 [==============================] - 2s 32us/step - loss: 0.0198 - acc: 0.9931 - val_loss: 0.0358 - val_acc: 0.9910\n",
            "Epoch 215/300\n",
            "54000/54000 [==============================] - 2s 32us/step - loss: 0.0208 - acc: 0.9930 - val_loss: 0.0362 - val_acc: 0.9902\n",
            "Epoch 216/300\n",
            "54000/54000 [==============================] - 2s 32us/step - loss: 0.0197 - acc: 0.9931 - val_loss: 0.0369 - val_acc: 0.9903\n",
            "Epoch 217/300\n",
            "54000/54000 [==============================] - 2s 32us/step - loss: 0.0193 - acc: 0.9933 - val_loss: 0.0382 - val_acc: 0.9902\n",
            "Epoch 218/300\n",
            "54000/54000 [==============================] - 2s 32us/step - loss: 0.0190 - acc: 0.9934 - val_loss: 0.0371 - val_acc: 0.9907\n",
            "Epoch 219/300\n",
            "54000/54000 [==============================] - 2s 32us/step - loss: 0.0199 - acc: 0.9931 - val_loss: 0.0396 - val_acc: 0.9902\n",
            "Epoch 220/300\n",
            "54000/54000 [==============================] - 2s 32us/step - loss: 0.0192 - acc: 0.9935 - val_loss: 0.0368 - val_acc: 0.9900\n",
            "Epoch 221/300\n",
            "54000/54000 [==============================] - 2s 32us/step - loss: 0.0196 - acc: 0.9933 - val_loss: 0.0374 - val_acc: 0.9907\n",
            "Epoch 222/300\n",
            "54000/54000 [==============================] - 2s 32us/step - loss: 0.0198 - acc: 0.9927 - val_loss: 0.0388 - val_acc: 0.9898\n",
            "Epoch 223/300\n",
            "54000/54000 [==============================] - 2s 32us/step - loss: 0.0202 - acc: 0.9932 - val_loss: 0.0369 - val_acc: 0.9905\n",
            "Epoch 224/300\n",
            "54000/54000 [==============================] - 2s 32us/step - loss: 0.0190 - acc: 0.9931 - val_loss: 0.0365 - val_acc: 0.9913\n",
            "Epoch 225/300\n",
            "54000/54000 [==============================] - 2s 32us/step - loss: 0.0199 - acc: 0.9931 - val_loss: 0.0395 - val_acc: 0.9903\n",
            "Epoch 226/300\n",
            "54000/54000 [==============================] - 2s 32us/step - loss: 0.0204 - acc: 0.9930 - val_loss: 0.0354 - val_acc: 0.9910\n",
            "Epoch 227/300\n",
            "54000/54000 [==============================] - 2s 32us/step - loss: 0.0193 - acc: 0.9933 - val_loss: 0.0370 - val_acc: 0.9905\n",
            "Epoch 228/300\n",
            "54000/54000 [==============================] - 2s 32us/step - loss: 0.0194 - acc: 0.9932 - val_loss: 0.0369 - val_acc: 0.9910\n",
            "Epoch 229/300\n",
            "54000/54000 [==============================] - 2s 32us/step - loss: 0.0182 - acc: 0.9938 - val_loss: 0.0356 - val_acc: 0.9912\n",
            "Epoch 230/300\n",
            "54000/54000 [==============================] - 2s 32us/step - loss: 0.0191 - acc: 0.9935 - val_loss: 0.0366 - val_acc: 0.9900\n",
            "Epoch 231/300\n",
            "54000/54000 [==============================] - 2s 32us/step - loss: 0.0190 - acc: 0.9933 - val_loss: 0.0386 - val_acc: 0.9903\n",
            "Epoch 232/300\n",
            "54000/54000 [==============================] - 2s 32us/step - loss: 0.0192 - acc: 0.9930 - val_loss: 0.0391 - val_acc: 0.9893\n",
            "Epoch 233/300\n",
            "54000/54000 [==============================] - 2s 32us/step - loss: 0.0204 - acc: 0.9927 - val_loss: 0.0366 - val_acc: 0.9900\n",
            "Epoch 234/300\n",
            "54000/54000 [==============================] - 2s 32us/step - loss: 0.0205 - acc: 0.9932 - val_loss: 0.0383 - val_acc: 0.9895\n",
            "Epoch 235/300\n",
            "54000/54000 [==============================] - 2s 32us/step - loss: 0.0189 - acc: 0.9932 - val_loss: 0.0360 - val_acc: 0.9905\n",
            "Epoch 236/300\n",
            "54000/54000 [==============================] - 2s 32us/step - loss: 0.0205 - acc: 0.9933 - val_loss: 0.0367 - val_acc: 0.9908\n",
            "Epoch 237/300\n",
            "54000/54000 [==============================] - 2s 32us/step - loss: 0.0187 - acc: 0.9932 - val_loss: 0.0375 - val_acc: 0.9902\n",
            "Epoch 238/300\n",
            "54000/54000 [==============================] - 2s 31us/step - loss: 0.0190 - acc: 0.9933 - val_loss: 0.0372 - val_acc: 0.9910\n",
            "Epoch 239/300\n",
            "54000/54000 [==============================] - 2s 31us/step - loss: 0.0182 - acc: 0.9934 - val_loss: 0.0372 - val_acc: 0.9905\n",
            "Epoch 240/300\n",
            "54000/54000 [==============================] - 2s 32us/step - loss: 0.0186 - acc: 0.9934 - val_loss: 0.0364 - val_acc: 0.9908\n",
            "Epoch 241/300\n",
            "54000/54000 [==============================] - 2s 32us/step - loss: 0.0189 - acc: 0.9936 - val_loss: 0.0388 - val_acc: 0.9902\n",
            "Epoch 242/300\n",
            "54000/54000 [==============================] - 2s 32us/step - loss: 0.0198 - acc: 0.9929 - val_loss: 0.0366 - val_acc: 0.9905\n",
            "Epoch 243/300\n",
            "54000/54000 [==============================] - 2s 32us/step - loss: 0.0191 - acc: 0.9936 - val_loss: 0.0349 - val_acc: 0.9910\n",
            "Epoch 244/300\n",
            "54000/54000 [==============================] - 2s 32us/step - loss: 0.0187 - acc: 0.9935 - val_loss: 0.0364 - val_acc: 0.9915\n",
            "Epoch 245/300\n",
            "54000/54000 [==============================] - 2s 32us/step - loss: 0.0180 - acc: 0.9939 - val_loss: 0.0373 - val_acc: 0.9908\n",
            "Epoch 246/300\n",
            "54000/54000 [==============================] - 2s 32us/step - loss: 0.0189 - acc: 0.9932 - val_loss: 0.0386 - val_acc: 0.9908\n",
            "Epoch 247/300\n",
            "54000/54000 [==============================] - 2s 32us/step - loss: 0.0172 - acc: 0.9938 - val_loss: 0.0370 - val_acc: 0.9908\n",
            "Epoch 248/300\n",
            "54000/54000 [==============================] - 2s 32us/step - loss: 0.0195 - acc: 0.9931 - val_loss: 0.0389 - val_acc: 0.9907\n",
            "Epoch 249/300\n",
            "54000/54000 [==============================] - 2s 32us/step - loss: 0.0177 - acc: 0.9933 - val_loss: 0.0369 - val_acc: 0.9905\n",
            "Epoch 250/300\n",
            "54000/54000 [==============================] - 2s 32us/step - loss: 0.0183 - acc: 0.9939 - val_loss: 0.0370 - val_acc: 0.9903\n",
            "Epoch 251/300\n",
            "54000/54000 [==============================] - 2s 32us/step - loss: 0.0199 - acc: 0.9931 - val_loss: 0.0382 - val_acc: 0.9893\n",
            "Epoch 252/300\n",
            "54000/54000 [==============================] - 2s 32us/step - loss: 0.0184 - acc: 0.9938 - val_loss: 0.0362 - val_acc: 0.9902\n",
            "Epoch 253/300\n",
            "54000/54000 [==============================] - 2s 32us/step - loss: 0.0180 - acc: 0.9938 - val_loss: 0.0371 - val_acc: 0.9902\n",
            "Epoch 254/300\n",
            "54000/54000 [==============================] - 2s 32us/step - loss: 0.0184 - acc: 0.9935 - val_loss: 0.0390 - val_acc: 0.9903\n",
            "Epoch 255/300\n",
            "54000/54000 [==============================] - 2s 32us/step - loss: 0.0202 - acc: 0.9926 - val_loss: 0.0374 - val_acc: 0.9912\n",
            "Epoch 256/300\n",
            "54000/54000 [==============================] - 2s 32us/step - loss: 0.0192 - acc: 0.9932 - val_loss: 0.0373 - val_acc: 0.9912\n",
            "Epoch 257/300\n",
            "54000/54000 [==============================] - 2s 32us/step - loss: 0.0178 - acc: 0.9936 - val_loss: 0.0367 - val_acc: 0.9907\n",
            "Epoch 258/300\n",
            "54000/54000 [==============================] - 2s 32us/step - loss: 0.0187 - acc: 0.9935 - val_loss: 0.0377 - val_acc: 0.9910\n",
            "Epoch 259/300\n",
            "54000/54000 [==============================] - 2s 32us/step - loss: 0.0189 - acc: 0.9936 - val_loss: 0.0377 - val_acc: 0.9910\n",
            "Epoch 260/300\n",
            "54000/54000 [==============================] - 2s 32us/step - loss: 0.0188 - acc: 0.9934 - val_loss: 0.0371 - val_acc: 0.9903\n",
            "Epoch 261/300\n",
            "54000/54000 [==============================] - 2s 32us/step - loss: 0.0185 - acc: 0.9936 - val_loss: 0.0388 - val_acc: 0.9905\n",
            "Epoch 262/300\n",
            "54000/54000 [==============================] - 2s 32us/step - loss: 0.0176 - acc: 0.9938 - val_loss: 0.0377 - val_acc: 0.9898\n",
            "Epoch 263/300\n",
            "54000/54000 [==============================] - 2s 32us/step - loss: 0.0194 - acc: 0.9931 - val_loss: 0.0409 - val_acc: 0.9888\n",
            "Epoch 264/300\n",
            "54000/54000 [==============================] - 2s 32us/step - loss: 0.0188 - acc: 0.9935 - val_loss: 0.0353 - val_acc: 0.9912\n",
            "Epoch 265/300\n",
            "54000/54000 [==============================] - 2s 32us/step - loss: 0.0183 - acc: 0.9939 - val_loss: 0.0359 - val_acc: 0.9907\n",
            "Epoch 266/300\n",
            "54000/54000 [==============================] - 2s 32us/step - loss: 0.0184 - acc: 0.9933 - val_loss: 0.0369 - val_acc: 0.9913\n",
            "Epoch 267/300\n",
            "54000/54000 [==============================] - 2s 31us/step - loss: 0.0176 - acc: 0.9939 - val_loss: 0.0364 - val_acc: 0.9915\n",
            "Epoch 268/300\n",
            "54000/54000 [==============================] - 2s 32us/step - loss: 0.0183 - acc: 0.9933 - val_loss: 0.0365 - val_acc: 0.9905\n",
            "Epoch 269/300\n",
            "54000/54000 [==============================] - 2s 32us/step - loss: 0.0178 - acc: 0.9937 - val_loss: 0.0367 - val_acc: 0.9910\n",
            "Epoch 270/300\n",
            "54000/54000 [==============================] - 2s 32us/step - loss: 0.0171 - acc: 0.9938 - val_loss: 0.0346 - val_acc: 0.9912\n",
            "Epoch 271/300\n",
            "54000/54000 [==============================] - 2s 32us/step - loss: 0.0175 - acc: 0.9943 - val_loss: 0.0368 - val_acc: 0.9908\n",
            "Epoch 272/300\n",
            "54000/54000 [==============================] - 2s 32us/step - loss: 0.0192 - acc: 0.9934 - val_loss: 0.0374 - val_acc: 0.9902\n",
            "Epoch 273/300\n",
            "54000/54000 [==============================] - 2s 32us/step - loss: 0.0179 - acc: 0.9937 - val_loss: 0.0347 - val_acc: 0.9915\n",
            "Epoch 274/300\n",
            "54000/54000 [==============================] - 2s 32us/step - loss: 0.0171 - acc: 0.9939 - val_loss: 0.0376 - val_acc: 0.9907\n",
            "Epoch 275/300\n",
            "54000/54000 [==============================] - 2s 32us/step - loss: 0.0182 - acc: 0.9935 - val_loss: 0.0376 - val_acc: 0.9903\n",
            "Epoch 276/300\n",
            "54000/54000 [==============================] - 2s 32us/step - loss: 0.0175 - acc: 0.9940 - val_loss: 0.0380 - val_acc: 0.9900\n",
            "Epoch 277/300\n",
            "54000/54000 [==============================] - 2s 32us/step - loss: 0.0179 - acc: 0.9939 - val_loss: 0.0357 - val_acc: 0.9915\n",
            "Epoch 278/300\n",
            "54000/54000 [==============================] - 2s 32us/step - loss: 0.0181 - acc: 0.9937 - val_loss: 0.0377 - val_acc: 0.9898\n",
            "Epoch 279/300\n",
            "54000/54000 [==============================] - 2s 32us/step - loss: 0.0164 - acc: 0.9942 - val_loss: 0.0405 - val_acc: 0.9903\n",
            "Epoch 280/300\n",
            "54000/54000 [==============================] - 2s 32us/step - loss: 0.0162 - acc: 0.9942 - val_loss: 0.0393 - val_acc: 0.9907\n",
            "Epoch 281/300\n",
            "54000/54000 [==============================] - 2s 32us/step - loss: 0.0175 - acc: 0.9940 - val_loss: 0.0377 - val_acc: 0.9903\n",
            "Epoch 282/300\n",
            "54000/54000 [==============================] - 2s 32us/step - loss: 0.0178 - acc: 0.9936 - val_loss: 0.0344 - val_acc: 0.9918\n",
            "Epoch 283/300\n",
            "54000/54000 [==============================] - 2s 32us/step - loss: 0.0192 - acc: 0.9934 - val_loss: 0.0371 - val_acc: 0.9902\n",
            "Epoch 284/300\n",
            "54000/54000 [==============================] - 2s 32us/step - loss: 0.0182 - acc: 0.9937 - val_loss: 0.0358 - val_acc: 0.9908\n",
            "Epoch 285/300\n",
            "54000/54000 [==============================] - 2s 32us/step - loss: 0.0176 - acc: 0.9937 - val_loss: 0.0357 - val_acc: 0.9905\n",
            "Epoch 286/300\n",
            "54000/54000 [==============================] - 2s 32us/step - loss: 0.0172 - acc: 0.9940 - val_loss: 0.0371 - val_acc: 0.9903\n",
            "Epoch 287/300\n",
            "54000/54000 [==============================] - 2s 32us/step - loss: 0.0171 - acc: 0.9941 - val_loss: 0.0377 - val_acc: 0.9902\n",
            "Epoch 288/300\n",
            "54000/54000 [==============================] - 2s 32us/step - loss: 0.0167 - acc: 0.9941 - val_loss: 0.0354 - val_acc: 0.9908\n",
            "Epoch 289/300\n",
            "54000/54000 [==============================] - 2s 32us/step - loss: 0.0173 - acc: 0.9936 - val_loss: 0.0360 - val_acc: 0.9907\n",
            "Epoch 290/300\n",
            "54000/54000 [==============================] - 2s 32us/step - loss: 0.0180 - acc: 0.9936 - val_loss: 0.0366 - val_acc: 0.9907\n",
            "Epoch 291/300\n",
            "54000/54000 [==============================] - 2s 32us/step - loss: 0.0164 - acc: 0.9940 - val_loss: 0.0379 - val_acc: 0.9903\n",
            "Epoch 292/300\n",
            "54000/54000 [==============================] - 2s 32us/step - loss: 0.0184 - acc: 0.9936 - val_loss: 0.0361 - val_acc: 0.9908\n",
            "Epoch 293/300\n",
            "54000/54000 [==============================] - 2s 32us/step - loss: 0.0186 - acc: 0.9934 - val_loss: 0.0368 - val_acc: 0.9913\n",
            "Epoch 294/300\n",
            "54000/54000 [==============================] - 2s 32us/step - loss: 0.0174 - acc: 0.9939 - val_loss: 0.0384 - val_acc: 0.9903\n",
            "Epoch 295/300\n",
            "54000/54000 [==============================] - 2s 32us/step - loss: 0.0171 - acc: 0.9942 - val_loss: 0.0398 - val_acc: 0.9902\n",
            "Epoch 296/300\n",
            "54000/54000 [==============================] - 2s 32us/step - loss: 0.0175 - acc: 0.9939 - val_loss: 0.0355 - val_acc: 0.9908\n",
            "Epoch 297/300\n",
            "54000/54000 [==============================] - 2s 32us/step - loss: 0.0171 - acc: 0.9937 - val_loss: 0.0356 - val_acc: 0.9905\n",
            "Epoch 298/300\n",
            "54000/54000 [==============================] - 2s 32us/step - loss: 0.0166 - acc: 0.9942 - val_loss: 0.0367 - val_acc: 0.9910\n",
            "Epoch 299/300\n",
            "54000/54000 [==============================] - 2s 32us/step - loss: 0.0175 - acc: 0.9939 - val_loss: 0.0387 - val_acc: 0.9905\n",
            "Epoch 300/300\n",
            "54000/54000 [==============================] - 2s 32us/step - loss: 0.0165 - acc: 0.9938 - val_loss: 0.0395 - val_acc: 0.9902\n"
          ],
          "name": "stdout"
        }
      ]
    },
    {
      "cell_type": "code",
      "metadata": {
        "id": "iFDBv1cXdmwg",
        "colab_type": "code",
        "colab": {
          "base_uri": "https://localhost:8080/",
          "height": 34
        },
        "outputId": "370b2f5d-eb55-4990-a143-d9955483c116"
      },
      "source": [
        "# list all data in history\n",
        "print(history.history.keys())"
      ],
      "execution_count": 15,
      "outputs": [
        {
          "output_type": "stream",
          "text": [
            "dict_keys(['val_loss', 'val_acc', 'loss', 'acc'])\n"
          ],
          "name": "stdout"
        }
      ]
    },
    {
      "cell_type": "code",
      "metadata": {
        "id": "NihCT-fEdohQ",
        "colab_type": "code",
        "colab": {
          "base_uri": "https://localhost:8080/",
          "height": 295
        },
        "outputId": "a08af7c1-cf18-4cbe-9a6a-0b1fc250d167"
      },
      "source": [
        "# summarize history for accuracy\n",
        "plt.plot(history.history['acc'])\n",
        "plt.plot(history.history['val_acc'])\n",
        "plt.title('model accuracy')\n",
        "plt.ylabel('accuracy')\n",
        "plt.xlabel('epoch')\n",
        "plt.legend(['train', 'test'], loc='upper left')\n",
        "plt.show()"
      ],
      "execution_count": 16,
      "outputs": [
        {
          "output_type": "display_data",
          "data": {
            "image/png": "[encoded data removed]",
            "text/plain": [
              "<Figure size 432x288 with 1 Axes>"
            ]
          },
          "metadata": {
            "tags": []
          }
        }
      ]
    },
    {
      "cell_type": "code",
      "metadata": {
        "id": "PLMxk2c_d7rG",
        "colab_type": "code",
        "colab": {
          "base_uri": "https://localhost:8080/",
          "height": 295
        },
        "outputId": "8bb1be7c-265c-49a1-d2e4-4bb832bbd8f1"
      },
      "source": [
        "# summarize history for loss\n",
        "plt.plot(history.history['loss'])\n",
        "plt.plot(history.history['val_loss'])\n",
        "plt.title('model loss')\n",
        "plt.ylabel('loss')\n",
        "plt.xlabel('epoch')\n",
        "plt.legend(['train', 'test'], loc='upper left')\n",
        "plt.show()"
      ],
      "execution_count": 17,
      "outputs": [
        {
          "output_type": "display_data",
          "data": {
            "image/png": "[encoded data removed]",
            "text/plain": [
              "<Figure size 432x288 with 1 Axes>"
            ]
          },
          "metadata": {
            "tags": []
          }
        }
      ]
    },
    {
      "cell_type": "code",
      "metadata": {
        "id": "AtsH-lLk-eLb",
        "colab_type": "code",
        "colab": {}
      },
      "source": [
        "score = model.evaluate(X_test, Y_test, verbose=0)"
      ],
      "execution_count": 0,
      "outputs": []
    },
    {
      "cell_type": "code",
      "metadata": {
        "id": "mkX8JMv79q9r",
        "colab_type": "code",
        "outputId": "d14a1468-80d0-45dd-88d7-986e5d3046fc",
        "colab": {
          "base_uri": "https://localhost:8080/",
          "height": 34
        }
      },
      "source": [
        "#print the ['loss', 'acc']\n",
        "print(score)"
      ],
      "execution_count": 19,
      "outputs": [
        {
          "output_type": "stream",
          "text": [
            "[0.03189528723485564, 0.9907]\n"
          ],
          "name": "stdout"
        }
      ]
    },
    {
      "cell_type": "code",
      "metadata": {
        "id": "OCWoJkwE9suh",
        "colab_type": "code",
        "colab": {}
      },
      "source": [
        "#predict on test data\n",
        "y_pred = model.predict(X_test)"
      ],
      "execution_count": 0,
      "outputs": []
    },
    {
      "cell_type": "code",
      "metadata": {
        "id": "Ym7iCFBm9uBs",
        "colab_type": "code",
        "outputId": "4f7dd976-e906-44d3-8ecd-8e8c2f9523fe",
        "colab": {
          "base_uri": "https://localhost:8080/",
          "height": 493
        }
      },
      "source": [
        "#print predicted and actual labels\n",
        "print(y_pred[:9])\n",
        "print(y_test[:9])"
      ],
      "execution_count": 21,
      "outputs": [
        {
          "output_type": "stream",
          "text": [
            "[[4.69756077e-19 5.11980798e-14 1.57531366e-09 1.18426726e-06\n",
            "  9.86031467e-18 4.65117907e-13 1.73008136e-27 9.99998808e-01\n",
            "  1.50553669e-12 1.33852052e-09]\n",
            " [4.11585571e-10 2.13708816e-07 9.99999762e-01 2.62921981e-13\n",
            "  6.64579933e-16 1.45450661e-17 6.30238439e-09 6.65133130e-15\n",
            "  5.56597303e-13 1.25124190e-14]\n",
            " [1.59598376e-10 9.99996662e-01 2.44615791e-07 1.99357131e-09\n",
            "  2.07558901e-06 2.76466561e-09 1.01323634e-08 4.18433814e-07\n",
            "  5.63661160e-07 6.14403861e-10]\n",
            " [9.99999166e-01 2.68974294e-19 5.28430348e-07 1.19553401e-09\n",
            "  8.78051484e-13 2.11477988e-10 2.74690166e-07 1.63323348e-11\n",
            "  6.00007368e-08 3.74826001e-08]\n",
            " [3.15919235e-10 6.48861701e-16 5.14917275e-10 1.63196483e-13\n",
            "  9.99997616e-01 2.90792843e-16 2.89804530e-12 5.56988011e-09\n",
            "  5.03718844e-10 2.35975313e-06]\n",
            " [6.40479503e-10 9.99893427e-01 1.17185891e-06 6.79504619e-10\n",
            "  3.93960136e-06 9.72598876e-11 1.63764435e-09 9.65740110e-05\n",
            "  4.81672805e-06 3.73664300e-08]\n",
            " [2.52323339e-18 1.18307760e-15 1.31066125e-09 1.36584283e-14\n",
            "  9.99967456e-01 3.05761784e-14 2.97574113e-13 2.87991492e-10\n",
            "  3.19325700e-05 6.38410484e-07]\n",
            " [6.17725057e-29 1.00923096e-16 2.93144314e-10 4.39416922e-13\n",
            "  5.04531158e-07 4.36766040e-11 2.22888960e-19 8.89791679e-15\n",
            "  2.42935521e-08 9.99999523e-01]\n",
            " [5.04359150e-08 6.58910271e-25 8.26166867e-14 4.87062127e-12\n",
            "  1.82017543e-11 9.72897232e-01 2.68959012e-02 2.05953906e-13\n",
            "  2.06912242e-04 2.15007478e-09]]\n",
            "[7 2 1 0 4 1 4 9 5]\n"
          ],
          "name": "stdout"
        }
      ]
    },
    {
      "cell_type": "code",
      "metadata": {
        "id": "CT--y98_dr2T",
        "colab_type": "code",
        "colab": {}
      },
      "source": [
        "layer_dict = dict([(layer.name, layer) for layer in model.layers])"
      ],
      "execution_count": 0,
      "outputs": []
    },
    {
      "cell_type": "code",
      "metadata": {
        "id": "43GzuFHpu4nH",
        "colab_type": "code",
        "colab": {
          "base_uri": "https://localhost:8080/",
          "height": 187
        },
        "outputId": "4b516f9d-6a2c-41c6-d7ae-656a0899c8a3"
      },
      "source": [
        "layer_dict"
      ],
      "execution_count": 23,
      "outputs": [
        {
          "output_type": "execute_result",
          "data": {
            "text/plain": [
              "{'activation_1': <keras.layers.core.Activation at 0x7f07435137b8>,\n",
              " 'conv2d_1': <keras.layers.convolutional.Conv2D at 0x7f0746629ac8>,\n",
              " 'conv2d_2': <keras.layers.convolutional.Conv2D at 0x7f0743de7a58>,\n",
              " 'conv2d_3': <keras.layers.convolutional.Conv2D at 0x7f074357a4e0>,\n",
              " 'conv2d_4': <keras.layers.convolutional.Conv2D at 0x7f074355c9e8>,\n",
              " 'dropout_1': <keras.layers.core.Dropout at 0x7f0746629668>,\n",
              " 'dropout_2': <keras.layers.core.Dropout at 0x7f074357ae48>,\n",
              " 'dropout_3': <keras.layers.core.Dropout at 0x7f0743de7978>,\n",
              " 'flatten_1': <keras.layers.core.Flatten at 0x7f074355c3c8>,\n",
              " 'max_pooling2d_1': <keras.layers.pooling.MaxPooling2D at 0x7f0743de7a90>}"
            ]
          },
          "metadata": {
            "tags": []
          },
          "execution_count": 23
        }
      ]
    },
    {
      "cell_type": "code",
      "metadata": {
        "id": "2GY4Upv4dsUR",
        "colab_type": "code",
        "outputId": "1ae3d006-faf5-4b68-b5e2-5af182ead76b",
        "colab": {
          "base_uri": "https://localhost:8080/",
          "height": 741
        }
      },
      "source": [
        "import numpy as np\n",
        "from matplotlib import pyplot as plt\n",
        "from keras import backend as K\n",
        "%matplotlib inline\n",
        "# util function to convert a tensor into a valid image\n",
        "def deprocess_image(x):\n",
        "    # normalize tensor: center on 0., ensure std is 0.1\n",
        "    x -= x.mean()\n",
        "    x /= (x.std() + 1e-5)\n",
        "    x *= 0.1\n",
        "\n",
        "    # clip to [0, 1]\n",
        "    x += 0.5\n",
        "    x = np.clip(x, 0, 1)\n",
        "\n",
        "    # convert to RGB array\n",
        "    x *= 255\n",
        "    #x = x.transpose((1, 2, 0))\n",
        "    x = np.clip(x, 0, 255).astype('uint8')\n",
        "    return x\n",
        "\n",
        "def vis_img_in_filter(img = np.array(X_train[2]).reshape((1, 28, 28, 1)).astype(np.float64), \n",
        "                      layer_name = 'conv2d_1'):\n",
        "    layer_output = layer_dict[layer_name].output\n",
        "    img_ascs = list()\n",
        "    for filter_index in range(layer_output.shape[3]):\n",
        "        # build a loss function that maximizes the activation\n",
        "        # of the nth filter of the layer considered\n",
        "        loss = K.mean(layer_output[:, :, :, filter_index])\n",
        "\n",
        "        # compute the gradient of the input picture wrt this loss\n",
        "        grads = K.gradients(loss, model.input)[0]\n",
        "\n",
        "        # normalization trick: we normalize the gradient\n",
        "        grads /= (K.sqrt(K.mean(K.square(grads))) + 1e-5)\n",
        "\n",
        "        # this function returns the loss and grads given the input picture\n",
        "        iterate = K.function([model.input], [loss, grads])\n",
        "\n",
        "        # step size for gradient ascent\n",
        "        step = 5.\n",
        "\n",
        "        img_asc = np.array(img)\n",
        "        # run gradient ascent for 20 steps\n",
        "        for i in range(20):\n",
        "            loss_value, grads_value = iterate([img_asc])\n",
        "            img_asc += grads_value * step\n",
        "\n",
        "        img_asc = img_asc[0]\n",
        "        img_ascs.append(deprocess_image(img_asc).reshape((28, 28)))\n",
        "        \n",
        "    if layer_output.shape[3] >= 35:\n",
        "        plot_x, plot_y = 6, 6\n",
        "    elif layer_output.shape[3] >= 23:\n",
        "        plot_x, plot_y = 4, 6\n",
        "    elif layer_output.shape[3] >= 11:\n",
        "        plot_x, plot_y = 2, 6\n",
        "    else:\n",
        "        plot_x, plot_y = 1, 2\n",
        "    fig, ax = plt.subplots(plot_x, plot_y, figsize = (12, 12))\n",
        "    ax[0, 0].imshow(img.reshape((28, 28)), cmap = 'gray')\n",
        "    ax[0, 0].set_title('Input image')\n",
        "    fig.suptitle('Input image and %s filters' % (layer_name,))\n",
        "    fig.tight_layout(pad = 0.3, rect = [0, 0, 0.9, 0.9])\n",
        "    for (x, y) in [(i, j) for i in range(plot_x) for j in range(plot_y)]:\n",
        "        if x == 0 and y == 0:\n",
        "            continue\n",
        "        ax[x, y].imshow(img_ascs[x * plot_y + y - 1], cmap = 'gray')\n",
        "        ax[x, y].set_title('filter %d' % (x * plot_y + y - 1))\n",
        "\n",
        "vis_img_in_filter()"
      ],
      "execution_count": 24,
      "outputs": [
        {
          "output_type": "display_data",
          "data": {
            "image/png": "[encoded data removed]",
            "text/plain": [
              "<Figure size 864x864 with 12 Axes>"
            ]
          },
          "metadata": {
            "tags": []
          }
        }
      ]
    }
  ]
}